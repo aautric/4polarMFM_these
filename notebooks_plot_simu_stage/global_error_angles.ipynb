{
 "cells": [
  {
   "cell_type": "code",
   "execution_count": null,
   "metadata": {},
   "outputs": [],
   "source": [
    "from simu_PSF_polar import *\n",
    "from tqdm import tqdm\n",
    "import os\n",
    "import time\n",
    "import matplotlib.pyplot as plt\n",
    "plt.rcParams['figure.figsize'] = [5,3]"
   ]
  },
  {
   "cell_type": "code",
   "execution_count": null,
   "metadata": {},
   "outputs": [],
   "source": [
    "if torch.cuda.is_available():\n",
    "    device = torch.device('cuda')\n",
    "    print(\"Using GPU\")\n",
    "else:   \n",
    "    device = torch.device('cpu')\n",
    "    print(\"Using CPU\")"
   ]
  },
  {
   "cell_type": "code",
   "execution_count": null,
   "metadata": {},
   "outputs": [],
   "source": [
    "def limit(x, lim, slope, upper=True):\n",
    "    '''\n",
    "    if upper:\n",
    "       return torch.sum(torch.tensor(1/(1+torch.exp(-slope*(x-lim))), requires_grad=True, device=device))\n",
    "    else:\n",
    "        return torch.sum(torch.tensor(1/(1+torch.exp(slope*(x-lim))), requires_grad=True, device=device))\n",
    "    '''\n",
    "    if upper:\n",
    "        return torch.sum(torch.exp((x-lim)*slope))\n",
    "    else:\n",
    "        return torch.sum(torch.exp(-1*(x-lim)*slope))\n",
    "        "
   ]
  },
  {
   "cell_type": "code",
   "execution_count": null,
   "metadata": {},
   "outputs": [],
   "source": [
    "N_photons= torch.tensor(5000., device=device)\n",
    "N=torch.tensor(80, device=device)\n",
    "l_pixel=torch.tensor(16, device=device)\n",
    "NA=torch.tensor(1.4, device=device)\n",
    "mag=torch.tensor(100, device=device)\n",
    "lambd=torch.tensor(617, device=device)\n",
    "f_tube=torch.tensor(200, device=device)\n",
    "MAG=torch.tensor(200/150, device=device)"
   ]
  },
  {
   "cell_type": "code",
   "execution_count": null,
   "metadata": {},
   "outputs": [],
   "source": [
    "xp = torch.tensor([0. for k in range(100)], device=device)\n",
    "yp = torch.tensor([0. for k in range(100)], device=device)\n",
    "z = torch.tensor((1.+np.random.rand(100))*0.8, device=device) #position of dipole in lambda units\n",
    "d_ = torch.tensor([-1.5 for k in range(100)], device=device) #defocus of dipole in lambda units 4.4\n",
    "rho = torch.tensor(180.*np.random.rand(100), requires_grad=True, device=device)\n",
    "eta = torch.tensor(20.+140.*np.random.rand(100), requires_grad=True, device=device)# 70\n",
    "delta = torch.tensor(70.+80.*np.random.rand(100), requires_grad=True, device=device)#50"
   ]
  },
  {
   "cell_type": "code",
   "execution_count": null,
   "metadata": {},
   "outputs": [],
   "source": [
    "x, y, th1, phi, [Ex0, Ex1, Ex2], [Ey0, Ey1, Ey2], r, r_cut, k, f_o = vectorial_BFP_perfect_focus(N, NA=NA, mag=mag, lambd=lambd, f_tube=f_tube, device=device)"
   ]
  },
  {
   "cell_type": "code",
   "execution_count": null,
   "metadata": {},
   "outputs": [],
   "source": [
    "second_plane = torch.tensor([0.35, 0, -0.35], device=device)\n",
    "polar_projections = torch.tensor([0., 45., 0.], device=device)"
   ]
  },
  {
   "cell_type": "code",
   "execution_count": null,
   "metadata": {},
   "outputs": [],
   "source": [
    "u, v, M = compute_M(xp=xp, yp=yp, zp=z, d=d_, x=x, y=y, th1=th1, phi=phi, Ex0=Ex0, Ex1=Ex1, Ex2=Ex2\n",
    "                    , Ey0=Ey0, Ey1=Ey1, Ey2=Ey2, r=r, r_cut=r_cut, k=k, f_o=f_o, second_plane=second_plane, polar_projections=polar_projections, N=N, l_pixel=l_pixel, NA=NA, mag=mag, lambd=lambd, f_tube=f_tube, MAG=MAG,\n",
    "                   device=device, aberrations=False, defocus_coef=1e-5, spherical_coef=-1.5)"
   ]
  },
  {
   "cell_type": "code",
   "execution_count": null,
   "metadata": {},
   "outputs": [],
   "source": [
    "psf = PSF(rho=rho, eta=eta, delta=delta, M=M, N_photons=N_photons)"
   ]
  },
  {
   "cell_type": "code",
   "execution_count": null,
   "metadata": {},
   "outputs": [],
   "source": [
    "nn = 12\n",
    "print('z = ', z[nn].cpu().detach().numpy())\n",
    "\n",
    "vmax=torch.max(psf[nn]).cpu().detach().numpy()\n",
    "vmin=torch.min(psf[nn]).cpu().detach().numpy()\n",
    "\n",
    "plt.rcParams['figure.figsize'] = [15,9]\n",
    "fig, ax = plt.subplots(2,3)\n",
    "mesh1 = ax[0,0].pcolormesh(u.cpu(), v.cpu(), psf[nn,0,0].cpu().detach().numpy(), cmap='gray', vmin=vmin, vmax=vmax)\n",
    "mesh2 = ax[1,0].pcolormesh(u.cpu(), v.cpu(), psf[nn,0,1].cpu().detach().numpy(), cmap='gray', vmin=vmin, vmax=vmax)\n",
    "mesh3 = ax[0,1].pcolormesh(u.cpu(), v.cpu(), psf[nn,1,0].cpu().detach().numpy(), cmap='gray', vmin=vmin, vmax=vmax)\n",
    "mesh4 = ax[1,1].pcolormesh(u.cpu(), v.cpu(), psf[nn,1,1].cpu().detach().numpy(), cmap='gray', vmin=vmin, vmax=vmax)\n",
    "mesh5 = ax[0,2].pcolormesh(u.cpu(), v.cpu(), psf[nn,2,0].cpu().detach().numpy(), cmap='gray', vmin=vmin, vmax=vmax)\n",
    "mesh6 = ax[1,2].pcolormesh(u.cpu(), v.cpu(), psf[nn,2,1].cpu().detach().numpy(), cmap='gray', vmin=vmin, vmax=vmax)\n",
    "ax[0,0].set_xlim((-150,150))\n",
    "ax[0,0].set_ylim((-150,150))\n",
    "cb = plt.colorbar(mesh1, pad=0.15, label='Photon number')\n",
    "ax[0,1].set_xlim((-150,150))\n",
    "ax[0,1].set_ylim((-150,150))\n",
    "cb = plt.colorbar(mesh2, pad=0.15, label='Photon number')\n",
    "ax[1,0].set_xlim((-150,150))\n",
    "ax[1,0].set_ylim((-150,150))\n",
    "cb = plt.colorbar(mesh3, pad=0.15, label='Photon number')\n",
    "ax[1,1].set_xlim((-150,150))\n",
    "ax[1,1].set_ylim((-150,150))\n",
    "cb = plt.colorbar(mesh4, pad=0.15, label='Photon number')\n",
    "ax[0,2].set_xlim((-150,150))\n",
    "ax[0,2].set_ylim((-150,150))\n",
    "cb = plt.colorbar(mesh5, pad=0.15, label='Photon number')\n",
    "ax[1,2].set_xlim((-150,150))\n",
    "ax[1,2].set_ylim((-150,150))\n",
    "cb = plt.colorbar(mesh6, pad=0.15, label='Photon number')"
   ]
  },
  {
   "cell_type": "code",
   "execution_count": null,
   "metadata": {},
   "outputs": [],
   "source": [
    "def signal(psf):\n",
    "    return torch.mean(torch.max(torch.flatten(psf, start_dim=1), dim=1)[0])"
   ]
  },
  {
   "cell_type": "code",
   "execution_count": null,
   "metadata": {},
   "outputs": [],
   "source": [
    "def general_loss(M, rho, eta, delta, N_photons, data):\n",
    "    h = PSF(rho=rho, eta=eta, delta=delta, M=M, N_photons=N_photons)\n",
    "    #\n",
    "    # loss = torch.sum(torch.add(h, -data).pow(2))\n",
    "    loss = torch.sum(torch.add(h, -(data+sig_r**2)*torch.log(h+B+sig_r**2)))\n",
    "    #rho_bound = limit(rho, 180, 100, upper=True) + limit(rho, 0, 100, upper=False)\n",
    "    delta_bound = limit(delta, 180, 100, upper=True) + limit(delta, 1, 100, upper=False)\n",
    "    #eta_bound = limit(eta, 180, 100, upper=True) + limit(eta, 0, 100, upper=False)\n",
    "    return loss + 1000.*(delta_bound) #+ 0.1*torch.sum(h.pow(2))"
   ]
  },
  {
   "cell_type": "code",
   "execution_count": null,
   "metadata": {},
   "outputs": [],
   "source": [
    "background = 11.\n",
    "sig_b = 6.\n",
    "read=1.5\n",
    "bias=11.\n",
    "psf_n = noise(psf, QE=1, EM=1, b=background, sigma_b=sig_b, sigma_r=read, bias=bias)"
   ]
  },
  {
   "cell_type": "code",
   "execution_count": null,
   "metadata": {},
   "outputs": [],
   "source": [
    "print('z = ', z[nn].cpu().detach().numpy())\n",
    "\n",
    "vmax=torch.max(psf_n[nn]).cpu().detach().numpy()\n",
    "vmin=torch.min(psf_n[nn]).cpu().detach().numpy()\n",
    "\n",
    "plt.rcParams['figure.figsize'] = [15,9]\n",
    "fig, ax = plt.subplots(2,3)\n",
    "mesh1 = ax[0,0].pcolormesh(u.cpu(), v.cpu(), psf_n[nn,0,0].cpu().detach().numpy(), cmap='gray', vmin=vmin, vmax=vmax)\n",
    "mesh2 = ax[1,0].pcolormesh(u.cpu(), v.cpu(), psf_n[nn,0,1].cpu().detach().numpy(), cmap='gray', vmin=vmin, vmax=vmax)\n",
    "mesh3 = ax[0,1].pcolormesh(u.cpu(), v.cpu(), psf_n[nn,1,0].cpu().detach().numpy(), cmap='gray', vmin=vmin, vmax=vmax)\n",
    "mesh4 = ax[1,1].pcolormesh(u.cpu(), v.cpu(), psf_n[nn,1,1].cpu().detach().numpy(), cmap='gray', vmin=vmin, vmax=vmax)\n",
    "mesh5 = ax[0,2].pcolormesh(u.cpu(), v.cpu(), psf_n[nn,2,0].cpu().detach().numpy(), cmap='gray', vmin=vmin, vmax=vmax)\n",
    "mesh6 = ax[1,2].pcolormesh(u.cpu(), v.cpu(), psf_n[nn,2,1].cpu().detach().numpy(), cmap='gray', vmin=vmin, vmax=vmax)\n",
    "ax[0,0].set_xlim((-150,150))\n",
    "ax[0,0].set_ylim((-150,150))\n",
    "cb = plt.colorbar(mesh1, pad=0.15, label='Photon number')\n",
    "ax[0,1].set_xlim((-150,150))\n",
    "ax[0,1].set_ylim((-150,150))\n",
    "cb = plt.colorbar(mesh2, pad=0.15, label='Photon number')\n",
    "ax[1,0].set_xlim((-150,150))\n",
    "ax[1,0].set_ylim((-150,150))\n",
    "cb = plt.colorbar(mesh3, pad=0.15, label='Photon number')\n",
    "ax[1,1].set_xlim((-150,150))\n",
    "ax[1,1].set_ylim((-150,150))\n",
    "cb = plt.colorbar(mesh4, pad=0.15, label='Photon number')\n",
    "ax[0,2].set_xlim((-150,150))\n",
    "ax[0,2].set_ylim((-150,150))\n",
    "cb = plt.colorbar(mesh5, pad=0.15, label='Photon number')\n",
    "ax[1,2].set_xlim((-150,150))\n",
    "ax[1,2].set_ylim((-150,150))\n",
    "cb = plt.colorbar(mesh6, pad=0.15, label='Photon number')"
   ]
  },
  {
   "cell_type": "code",
   "execution_count": null,
   "metadata": {},
   "outputs": [],
   "source": [
    "u, v, M = compute_M(xp=xp, yp=yp, zp=z, d=d_, x=x, y=y, th1=th1, phi=phi, Ex0=Ex0, Ex1=Ex1, Ex2=Ex2\n",
    "                    , Ey0=Ey0, Ey1=Ey1, Ey2=Ey2, r=r, r_cut=r_cut, k=k, f_o=f_o, second_plane=second_plane, polar_projections=polar_projections, N=N, l_pixel=l_pixel, NA=NA, mag=mag, lambd=lambd, f_tube=f_tube, MAG=MAG,\n",
    "                   device=device, aberrations=False, defocus_coef=1e-5, spherical_coef=-1.5)"
   ]
  },
  {
   "cell_type": "code",
   "execution_count": null,
   "metadata": {},
   "outputs": [],
   "source": [
    "for i in range(10):\n",
    "    xp = torch.tensor([0. for k in range(100)], device=device)\n",
    "    yp = torch.tensor([0. for k in range(100)], device=device)\n",
    "    z = torch.tensor((1.+np.random.rand(100))*0.8, device=device) #position of dipole in lambda units\n",
    "    d_ = torch.tensor([-1.5 for k in range(100)], device=device) #defocus of dipole in lambda units 4.4\n",
    "    rho = torch.tensor(10.+160.*np.random.rand(100), requires_grad=True, device=device)\n",
    "    eta = torch.tensor(30.+150.*np.random.rand(100), requires_grad=True, device=device)# 70\n",
    "    delta = torch.tensor(70.+80.*np.random.rand(100), requires_grad=True, device=device)#50\n",
    "    u, v, M = compute_M(xp=xp, yp=yp, zp=z, d=d_, x=x, y=y, th1=th1, phi=phi, Ex0=Ex0, Ex1=Ex1, Ex2=Ex2\n",
    "                    , Ey0=Ey0, Ey1=Ey1, Ey2=Ey2, r=r, r_cut=r_cut, k=k, f_o=f_o, second_plane=second_plane, polar_projections=polar_projections, N=N, l_pixel=l_pixel, NA=NA, mag=mag, lambd=lambd, f_tube=f_tube, MAG=MAG,\n",
    "                   device=device, aberrations=False, defocus_coef=1e-5, spherical_coef=-1.5)\n",
    "    \n",
    "    psf = PSF(rho=rho, eta=eta, delta=delta, M=M, N_photons=N_photons)\n",
    "    psf_n = noise(psf, QE=1, EM=1, b=background, sigma_b=sig_b, sigma_r=read, bias=bias)\n",
    "\n",
    "    B = background + bias\n",
    "    sig_r = np.sqrt(read**2 + sig_b**2)\n",
    "\n",
    "    params = torch.tensor(np.concatenate((rho.cpu().clone().detach()+40.*(np.random.rand(100)-0.5), #rho\n",
    "                                        np.array([90. for i in range(100)]), #eta\n",
    "                                        delta.cpu().clone().detach()+40.*(np.random.rand(100)-0.5))),\n",
    "                                        requires_grad=True, device=device)\n",
    "\n",
    "    # Use Stochastic Gradient Descent (SGD) to optimize params\n",
    "    optimizer = torch.optim.Adam([params], lr=0.9)  # Learning rate = 0.01\n",
    "\n",
    "    num_epochs_max = 300\n",
    "    loss_ = []\n",
    "    rho_ = []\n",
    "    eta_ = []\n",
    "    delta_ = []\n",
    "    N_p = []\n",
    "\n",
    "    for i in tqdm(range(num_epochs_max)):\n",
    "        optimizer.zero_grad()  # Reset gradients\n",
    "        #print(params[0:3], params[3:6], params[6:])\n",
    "        loss = general_loss(M.detach(), params[0:100], params[100:200], params[200:], N_photons.detach(), psf_n.detach())\n",
    "        #loss = general_loss(M.detach(), params[0], params[1], params[2], N_photons.detach(), psf.detach())\n",
    "        loss_.append(loss.cpu().detach().numpy())\n",
    "\n",
    "        rho___ = params[0:100].cpu().clone().detach().numpy()%180\n",
    "        rho___[rho___-rho.cpu().clone().detach().numpy() > 90] = rho___[rho___-rho.cpu().clone().detach().numpy() > 90] - 180.\n",
    "        rho___[rho___-rho.cpu().clone().detach().numpy() < -90] = rho___[rho___-rho.cpu().clone().detach().numpy() < -90] + 180.\n",
    "        eta___ = params[100:200].cpu().clone().detach().numpy()%180\n",
    "        eta___[eta___-eta.cpu().clone().detach().numpy() > 90] = eta___[eta___-eta.cpu().clone().detach().numpy() > 90] - 180.\n",
    "        eta___[eta___-eta.cpu().clone().detach().numpy() < -90] = eta___[eta___-eta.cpu().clone().detach().numpy() < -90] + 180.\n",
    "        rho_.append(rho___)\n",
    "        eta_.append(eta___)\n",
    "        delta_.append(params[200:].cpu().clone().detach().numpy())\n",
    "\n",
    "        loss.backward()  # Backpropagation\n",
    "        optimizer.step()  # Update parameters\n",
    "    signal_ = signal(psf.cpu().detach())\n",
    "    np.savez_compressed('D:/AMAURY/data_simu/stage/2025_08_10_global_error_angles/'+str(i)+'.npz', signal=signal_.detach().numpy(), std=sig_r, floor=B, rho=np.array(rho_-rho.cpu().clone().detach().numpy())[-1,:], eta=np.array(eta_-eta.cpu().clone().detach().numpy())[-1,:], delta=np.array(delta_-delta.cpu().clone().detach().numpy())[-1,:])"
   ]
  },
  {
   "cell_type": "code",
   "execution_count": null,
   "metadata": {},
   "outputs": [],
   "source": [
    "folder = 'D:/AMAURY/data_simu/stage/2025_08_10_global_error_angles'\n",
    "rhos = []\n",
    "etas = []\n",
    "deltas = []\n",
    "floors = []\n",
    "stds = []\n",
    "signals = []\n",
    "for file in os.listdir(folder):\n",
    "    data = np.load(folder+'/'+file)\n",
    "    rhos.append(data['rho'])\n",
    "    etas.append(data['eta'])\n",
    "    deltas.append(data['delta'])\n",
    "    stds.append(data['std'])\n",
    "    signals.append(data['signal'])\n",
    "    floors.append(data['floor'])\n"
   ]
  },
  {
   "cell_type": "code",
   "execution_count": null,
   "metadata": {},
   "outputs": [],
   "source": [
    "rhos = np.array(rhos)\n",
    "etas = np.array(etas)\n",
    "deltas = np.array(deltas)"
   ]
  },
  {
   "cell_type": "code",
   "execution_count": null,
   "metadata": {},
   "outputs": [],
   "source": [
    "plt.rcParams['figure.figsize'] = [5,5]\n",
    "p = plt.hist(rhos.flatten(), bins=50)"
   ]
  },
  {
   "cell_type": "code",
   "execution_count": null,
   "metadata": {},
   "outputs": [],
   "source": [
    "plt.rcParams['figure.figsize'] = [5,5]\n",
    "p = plt.hist(etas.flatten(), bins=50)"
   ]
  },
  {
   "cell_type": "code",
   "execution_count": null,
   "metadata": {},
   "outputs": [],
   "source": [
    "plt.rcParams['figure.figsize'] = [5,5]\n",
    "p = plt.hist(deltas.flatten(), bins=50)"
   ]
  },
  {
   "cell_type": "code",
   "execution_count": null,
   "metadata": {},
   "outputs": [],
   "source": [
    "print(np.percentile(rhos, 75)-np.percentile(rhos, 25))\n",
    "print(np.std(rhos))\n",
    "print(np.mean(rhos))"
   ]
  },
  {
   "cell_type": "code",
   "execution_count": null,
   "metadata": {},
   "outputs": [],
   "source": [
    "print(np.percentile(etas, 75)-np.percentile(etas, 25))\n",
    "print(np.std(etas))\n",
    "print(np.mean(etas))"
   ]
  },
  {
   "cell_type": "code",
   "execution_count": null,
   "metadata": {},
   "outputs": [],
   "source": [
    "print(np.percentile(deltas, 75)-np.percentile(deltas, 25))\n",
    "print(np.std(deltas))\n",
    "print(np.mean(deltas))"
   ]
  },
  {
   "cell_type": "code",
   "execution_count": null,
   "metadata": {},
   "outputs": [],
   "source": []
  }
 ],
 "metadata": {
  "kernelspec": {
   "display_name": "deeplearning_env",
   "language": "python",
   "name": "python3"
  },
  "language_info": {
   "codemirror_mode": {
    "name": "ipython",
    "version": 3
   },
   "file_extension": ".py",
   "mimetype": "text/x-python",
   "name": "python",
   "nbconvert_exporter": "python",
   "pygments_lexer": "ipython3",
   "version": "3.12.7"
  }
 },
 "nbformat": 4,
 "nbformat_minor": 4
}
