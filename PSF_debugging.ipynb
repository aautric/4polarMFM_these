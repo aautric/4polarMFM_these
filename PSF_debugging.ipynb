{
 "cells": [
  {
   "cell_type": "markdown",
   "id": "0b443796-dd61-47d3-975c-67acd5d09643",
   "metadata": {},
   "source": [
    "# Use of PSF simulations code"
   ]
  },
  {
   "cell_type": "code",
   "execution_count": null,
   "id": "316175fe-398f-44b7-9457-4ed0b090e949",
   "metadata": {},
   "outputs": [],
   "source": [
    "from simu_PSF_polar import *\n",
    "import matplotlib.pyplot as plt\n",
    "from scipy.optimize import curve_fit\n",
    "from matplotlib.colors import LogNorm\n",
    "\n",
    "from tqdm import tqdm"
   ]
  },
  {
   "cell_type": "markdown",
   "id": "88ea4c98-98a9-4dea-9eeb-4924f46017c8",
   "metadata": {},
   "source": [
    "if you feed scalars, all the computation is performed with numpy, otherwise it uses pyTorch. The goal is that when using torch, all the variables are stored as tensors in the good device (cpu or gpu). "
   ]
  },
  {
   "cell_type": "code",
   "execution_count": null,
   "id": "ee9ac2b9-88b9-4711-af88-617d81843eda",
   "metadata": {},
   "outputs": [],
   "source": [
    "version = 'numpy'\n",
    "#version = 'torch'\n",
    "device = 'cpu'"
   ]
  },
  {
   "cell_type": "code",
   "execution_count": null,
   "id": "b287a660-0944-4fc5-b52a-34883933d8e8",
   "metadata": {},
   "outputs": [],
   "source": [
    "N_photons=1000 # number of photons collected \n",
    "N=100 # discretization of the BFP\n",
    "l_pixel=4 #pixel size in micrometer\n",
    "NA=1.4 # numerical aperture\n",
    "mag=100 # first magnification\n",
    "lambd=617 # wavelength\n",
    "f_tube=200 # tube lens focal\n",
    "MAG=200/150 # second magnification\n",
    "\n",
    "if version == 'torch':\n",
    "    N_photons=torch.tensor(N_photons, device=device)\n",
    "    N=torch.tensor(N, device=device)\n",
    "    l_pixel=torch.tensor(l_pixel, device=device)\n",
    "    NA=torch.tensor(NA, device=device)\n",
    "    mag=torch.tensor(mag, device=device)\n",
    "    lambd=torch.tensor(lambd, device=device)\n",
    "    f_tube=torch.tensor(f_tube, device=device)\n",
    "    MAG=torch.tensor(MAG, device=device)"
   ]
  },
  {
   "cell_type": "code",
   "execution_count": null,
   "id": "086d4020-bb3f-42f8-ad9c-c65083f27323",
   "metadata": {},
   "outputs": [],
   "source": [
    "xp = 0. # dipole position\n",
    "yp = 0. # dipole position\n",
    "z = 3.*0.617 # z position of dipole\n",
    "d_ = -3.*0.617/0.8 # defocus of dipole\n",
    "rho = 70 # equatorial angle in degree\n",
    "eta = 100 # azimuthal angle in degree\n",
    "delta = 180 # wobbling in degree"
   ]
  },
  {
   "cell_type": "code",
   "execution_count": null,
   "id": "ee0c2d08-c787-47d4-b456-e2deeaf11d23",
   "metadata": {},
   "outputs": [],
   "source": [
    "# this parameter allows to give a tensor of several inputs (the same number for all inputs)\n",
    "# the PSF computation is parallelized and the output has one more dimension (the first)\n",
    "several_psf = True\n",
    "several_planes = False\n",
    "\n",
    "if several_psf and version=='torch':\n",
    "    xp = torch.tensor([xp for k in range(10)], device=device)\n",
    "    yp = torch.tensor([yp for k in range(10)], device=device)\n",
    "    z = torch.tensor([z for k in range(10)], device=device)\n",
    "    d_ = torch.tensor([d_ for k in range(10)], device=device)\n",
    "    rho = torch.tensor([rho for k in range(10)], device=device)\n",
    "    eta = torch.tensor([eta for k in range(10)], device=device)\n",
    "    delta = torch.tensor([delta for k in range(10)], device=device)\n",
    "\n",
    "elif not several_psf and version=='torch':\n",
    "    xp=torch.tensor(xp, device=device)\n",
    "    yp=torch.tensor(yp, device=device)\n",
    "    z=torch.tensor(z, device=device)\n",
    "    d_=torch.tensor(d_, device=device)\n",
    "    rho=torch.tensor(rho, device=device)\n",
    "    eta=torch.tensor(eta, device=device)\n",
    "    delta=torch.tensor(delta, device=device)"
   ]
  },
  {
   "cell_type": "code",
   "execution_count": null,
   "id": "5d2420d2-7ba2-4246-a4a9-9b35e5cf7ddc",
   "metadata": {},
   "outputs": [],
   "source": [
    "# this functions essentially computes the BFP fields in the case of perfect focus emmited by a dpiole along x/y/z and projected on polarizations x/y\n",
    "# x, y are meshgrids representing the BFP, distances renormalized by f_tube\n",
    "# th1 and phi are the angles in the BFP\n",
    "# r is the radius/f_tube in the BFP\n",
    "# [Ex0, Ex1, Ex2] BFP fields from x/y/z dipoles projected on x\n",
    "# [Ey0, Ey1, Ey2] BFP fields from x/y/z dipoles projected on y\n",
    "# f_o is the objective focal to match the magnification\n",
    "\n",
    "# THIS ONLY DEPENDS ON THE MICROSCOPE PARAMETERS AND IS GENERALLY COMPUTED ONCE ONLY"
   ]
  },
  {
   "cell_type": "code",
   "execution_count": null,
   "id": "e0ec3ba1-59ca-4594-84cd-be0178ebaaf9",
   "metadata": {},
   "outputs": [],
   "source": [
    "x, y, th1, phi, [Ex0, Ex1, Ex2], [Ey0, Ey1, Ey2], r, r_cut, k, f_o = vectorial_BFP_perfect_focus(N, NA=NA, mag=mag, lambd=lambd, f_tube=f_tube, device='cpu')"
   ]
  },
  {
   "cell_type": "code",
   "execution_count": null,
   "id": "2839a38f-aa08-436b-aafd-95d998c308a3",
   "metadata": {},
   "outputs": [],
   "source": [
    "rho = rho * np.pi / 180\n",
    "eta = eta * np.pi / 180\n",
    "delta = delta * np.pi / 180"
   ]
  },
  {
   "cell_type": "code",
   "execution_count": null,
   "id": "3dfc182a-cd08-4905-bc67-84b29cb615fd",
   "metadata": {},
   "outputs": [],
   "source": [
    "R = np.array([\n",
    "            [(np.sin(rho)**2)*(1 - np.cos(eta)) + np.cos(eta), \n",
    "             np.sin(rho) * np.cos(rho) * (np.cos(eta) - 1), \n",
    "             np.cos(rho) * np.sin(eta)],\n",
    "            [np.sin(rho) * np.cos(rho) * (np.cos(eta) - 1), \n",
    "             (np.cos(rho)**2)*(1 - np.cos(eta)) + np.cos(eta), \n",
    "             np.sin(rho) * np.sin(eta)],\n",
    "            [-np.cos(rho) * np.sin(eta), \n",
    "             -np.sin(rho) * np.sin(eta), \n",
    "             np.cos(eta)]\n",
    "        ])"
   ]
  },
  {
   "cell_type": "code",
   "execution_count": null,
   "id": "f4a7c83b-9a88-4766-ae48-782c3ec8d466",
   "metadata": {},
   "outputs": [],
   "source": [
    "mu = np.array([np.sin(eta)*np.cos(rho), np.sin(eta)*np.sin(rho), np.cos(eta)])"
   ]
  },
  {
   "cell_type": "code",
   "execution_count": null,
   "id": "ddf31dd4-dfb7-47a7-8902-a0d87cca7ff2",
   "metadata": {},
   "outputs": [],
   "source": [
    "lam = np.array([\n",
    "            (1 - np.cos(delta / 2)) * (np.cos(delta / 2) + 2) / 6, \n",
    "            (1 - np.cos(delta / 2)) * (np.cos(delta / 2) + 2) / 6, \n",
    "            ((np.cos(delta / 2)**3 - 1) / (np.cos(delta / 2) - 1)) / 3\n",
    "        ])"
   ]
  },
  {
   "cell_type": "code",
   "execution_count": null,
   "id": "3fb59a02-bb95-4410-8074-34b47cb3e9aa",
   "metadata": {},
   "outputs": [],
   "source": [
    "zer = np.zeros(Ex0.shape)"
   ]
  },
  {
   "cell_type": "code",
   "execution_count": null,
   "id": "3b98718a-89e8-476e-aee2-d0bc4ca54fa5",
   "metadata": {},
   "outputs": [],
   "source": [
    "Ex = np.array([Ex0, Ex1, Ex2])\n",
    "Ey = np.array([Ey0, Ey1, Ey2])\n",
    "#Ex = np.array([zer, Ex1, zer])\n",
    "#Ey = np.array([zer, zer, zer])"
   ]
  },
  {
   "cell_type": "markdown",
   "id": "2446accd-53a2-420a-8092-7122f20480ba",
   "metadata": {},
   "source": [
    "r_cut = 1.4/1.518\n",
    "N=100\n",
    "x, y = np.meshgrid(np.linspace(-r_cut,r_cut,N), np.linspace(-r_cut,r_cut,N))\n",
    "r = np.sqrt(x**2+y**2)"
   ]
  },
  {
   "cell_type": "markdown",
   "id": "bfbdee06-cbb1-481b-a303-2ea2cd313ce0",
   "metadata": {},
   "source": [
    "th1 = np.zeros((N,N))\n",
    "th1[:] = np.nan\n",
    "th1[r<r_cut] = np.arcsin(r[r<r_cut])\n",
    "phi = np.arctan2(y,x)"
   ]
  },
  {
   "cell_type": "markdown",
   "id": "78ff65b3-f5a2-4602-a4ee-0fd8a1ef8d9c",
   "metadata": {},
   "source": [
    "Ex = np.array([np.sin(phi)**2+(np.cos(phi)**2)*np.sqrt(1-np.sin(th1)**2), np.sin(2*phi)*(np.sqrt(1-np.sin(th1)**2)-1)/2, -np.sin(th1)*np.cos(phi)])\n",
    "Ey = np.array([np.sin(2*phi)*(np.sqrt(1-np.sin(th1)**2)-1)/2, np.cos(phi)**2+(np.sin(phi)**2)*np.sqrt(1-np.sin(th1)**2), -np.sin(th1)*np.sin(phi)])\n",
    "for uuu in [0,1,2]:\n",
    "    Ex[uuu][np.isnan(Ex[uuu])]=0.\n",
    "    Ey[uuu][np.isnan(Ey[uuu])]=0."
   ]
  },
  {
   "cell_type": "code",
   "execution_count": null,
   "id": "295e4de2-c8d4-4c84-ad55-538207d51717",
   "metadata": {},
   "outputs": [],
   "source": [
    "full_bfpx = np.zeros(Ex[0].shape)\n",
    "\n",
    "first_sum = np.einsum('ab, auv -> buv', R, Ex)\n",
    "full_bfpx = np.einsum('a, auv -> uv', lam, np.conj(first_sum)*first_sum)\n",
    "\n",
    "first_sum = np.einsum('ab, auv -> buv', R, Ey)\n",
    "full_bfpy = np.einsum('a, auv -> uv', lam, np.conj(first_sum)*first_sum)\n",
    "\n",
    "full_bfpx = full_bfpx\n",
    "full_bfpy = full_bfpy"
   ]
  },
  {
   "cell_type": "code",
   "execution_count": null,
   "id": "248fd58d-3e32-4cae-97e0-92dcd44c4825",
   "metadata": {},
   "outputs": [],
   "source": [
    "bfp_field = np.sqrt((full_bfpx+full_bfpy))\n",
    "bfp_field[np.isnan(bfp_field)] = 0."
   ]
  },
  {
   "cell_type": "code",
   "execution_count": null,
   "id": "ff55efcf-3be7-4332-8e49-da75625763ae",
   "metadata": {},
   "outputs": [],
   "source": [
    "f_tube = 200000\n",
    "f_o = f_tube/100\n",
    "Dx = 2*r_cut*f_o/N\n",
    "l_pixel=4\n",
    "k = 2*n1*np.pi/0.617\n",
    "Npadding = int((2*np.pi*f_tube)/(k*l_pixel*Dx)) - N\n",
    "if Npadding%2==1:\n",
    "    Npadding=Npadding+1\n",
    "\n",
    "print(Npadding)\n",
    "bfp_field_ = np.zeros((N+Npadding, N+Npadding), dtype='float64')\n",
    "bfp_field_[Npadding//2:Npadding//2+N,Npadding//2:Npadding//2+N] = bfp_field*np.exp(2*1j*np.pi*n1*0.*np.sqrt(1-(np.sin(th1))**2)/0.617)\n",
    "bfp_field = bfp_field_"
   ]
  },
  {
   "cell_type": "code",
   "execution_count": null,
   "id": "f51b90b1-b954-4c03-9760-ff58fee68d36",
   "metadata": {},
   "outputs": [],
   "source": [
    "plt.rcParams['figure.figsize'] = [7, 5]\n",
    "meeeesh = plt.pcolormesh(bfp_field)\n",
    "cb = plt.colorbar(meeeesh, pad=0.15, label='Photon number')"
   ]
  },
  {
   "cell_type": "code",
   "execution_count": null,
   "id": "c739a365-ded8-4443-acbb-a99ed1ed3b57",
   "metadata": {},
   "outputs": [],
   "source": [
    "im_field = np.fft.fftshift(np.fft.fft2(bfp_field))\n",
    "psf1 = np.real(im_field)**2 + np.imag(im_field)**2"
   ]
  },
  {
   "cell_type": "code",
   "execution_count": null,
   "id": "8462ac78-f2a5-474c-84fd-57c36a748abe",
   "metadata": {},
   "outputs": [],
   "source": [
    "def gauss(coords, A, mu1, mu2, s, c):\n",
    "    x, y = coords\n",
    "    return A*(1/(2*np.pi*(s**2)))*np.exp(-0.5*(((x-mu1)**2+(y-mu2)**2)/((s**2)))) + c\n",
    "\n",
    "def fit_psf_in_pixel(data_raw):\n",
    "    uuuu, vvvv = np.meshgrid(np.arange(data_raw.shape[0]),np.arange((data_raw.shape[0])))\n",
    "    xdata = np.vstack((uuuu.ravel(), vvvv.ravel()))\n",
    "    zdata = data_raw.ravel()\n",
    "    p, pcov = curve_fit(gauss, xdata, zdata, p0=(100, 20, 20, 3, 0))\n",
    "    return p, gauss((uuuu, vvvv), p[0], p[1], p[2], p[3], p[4])"
   ]
  },
  {
   "cell_type": "code",
   "execution_count": null,
   "id": "703b1d84-54f9-4d57-8f8e-213a1c8fa3ce",
   "metadata": {},
   "outputs": [],
   "source": [
    "plt.rcParams['figure.figsize'] = [15, 5]\n",
    "fig, ax = plt.subplots(1,2)\n",
    "NN = len(psf1)\n",
    "to_fit = psf1[NN//2-21:NN//2+22,NN//2-21:NN//2+22]/10000000\n",
    "p, sim = fit_psf_in_pixel(to_fit)\n",
    "print(p[3]*10*l_pixel, 0.26*(lambd/NA))\n",
    "vmax2 = np.max(sim)\n",
    "vmax = np.max(to_fit)\n",
    "me = ax[0].imshow(to_fit, norm=LogNorm())\n",
    "ax[0].plot(21+((0.61)*lambd/(10*l_pixel*NA))*np.cos(np.linspace(0, 2*np.pi, 100)), 21+((0.61)*lambd/(10*l_pixel*NA))*np.sin(np.linspace(0, 2*np.pi, 100)), c='r')\n",
    "cb = plt.colorbar(me, pad=0.15, label='Photon number')\n",
    "mesh2 = ax[1].imshow(sim, vmin=0, vmax=vmax2)\n",
    "cb = plt.colorbar(mesh2, pad=0.15, label='Photon number')"
   ]
  },
  {
   "cell_type": "code",
   "execution_count": null,
   "id": "d49c51d5-6966-4709-bb09-d32ce5a3087d",
   "metadata": {
    "scrolled": true
   },
   "outputs": [],
   "source": [
    "ree = []\n",
    "for uu, fi in enumerate([Ex[0], Ex[1], Ex[2], Ey[0], Ey[1], Ey[2]]):\n",
    "    fi_n = np.zeros((N+Npadding, N+Npadding), dtype='float64')\n",
    "    fi_n[Npadding//2:Npadding//2+N,Npadding//2:Npadding//2+N] = (fi)*np.exp(2*1j*np.pi*n1*0.*np.sqrt(1-(np.sin(th1))**2)/0.617)\n",
    "    fi_n[np.isnan(fi_n)] = 0.\n",
    "    ree.append(fi_n)\n",
    "    #plt.imshow(fi_n)\n",
    "    #plt.show()\n",
    "Ex_im = np.array([np.fft.fftshift(np.fft.fft2(np.fft.ifftshift(ree[0]))), np.fft.fftshift(np.fft.fft2(np.fft.ifftshift(ree[1]))), np.fft.fftshift(np.fft.fft2(np.fft.ifftshift(ree[2])))])\n",
    "Ey_im = np.array([np.fft.fftshift(np.fft.fft2(np.fft.ifftshift(ree[3]))), np.fft.fftshift(np.fft.fft2(np.fft.ifftshift(ree[4]))), np.fft.fftshift(np.fft.fft2(np.fft.ifftshift(ree[5])))])\n",
    "#Ex_im = np.array([np.fft.fft2(ree[0]), np.fft.fft2(ree[1]), np.fft.fft2(-1j*ree[2])])\n",
    "#Ey_im = np.array([np.fft.fft2(ree[3]), np.fft.fft2(ree[4]), np.fft.fft2(-1j*ree[5])])\n",
    "Ex_pad = np.array([ree[0], ree[1], ree[2]])\n",
    "Ey_pad = np.array([ree[3], ree[4], ree[5]])"
   ]
  },
  {
   "cell_type": "code",
   "execution_count": null,
   "id": "deda73c2-eb06-4c39-bb25-c0d5c4abb3f2",
   "metadata": {},
   "outputs": [],
   "source": [
    "Mx = np.einsum('abc, ubc -> aubc', np.conj(Ex_im), Ex_im)\n",
    "#Mx = Mx*np.array([[np.ones(Mx.shape[2:]),np.ones(Mx.shape[2:]),np.ones(Mx.shape[2:])],[np.ones(Mx.shape[2:]),np.ones(Mx.shape[2:]),np.ones(Mx.shape[2:])],[1j*np.ones(Mx.shape[2:]),1j*np.ones(Mx.shape[2:]),np.ones(Mx.shape[2:])]])\n",
    "My = np.einsum('abc, ubc -> aubc', np.conj(Ey_im), Ey_im)\n",
    "print(Mx.shape)"
   ]
  },
  {
   "cell_type": "code",
   "execution_count": null,
   "id": "6939210c-e43f-4ca7-b453-eae5467b656a",
   "metadata": {},
   "outputs": [],
   "source": [
    "integral1 = np.einsum('ab, bc -> ac', np.einsum('ab, bc -> ac', R, np.diag(lam)), R.T)\n",
    "integral2 = np.sum(np.array([lam[i]*np.einsum('a, b -> ab', R.T[i], R.T[i]) for i in range(3)]), axis=0)\n",
    "print(integral1-integral2)"
   ]
  },
  {
   "cell_type": "markdown",
   "id": "59d0ce8d-857f-460e-bc19-1386732ad63d",
   "metadata": {},
   "source": [
    "from scipy.signal import fftconvolve\n",
    "for i in range(3):\n",
    "    for j in range(3):\n",
    "        print(j)\n",
    "        Mx[i,j] = np.fft.fftshift(np.fft.fft2(fftconvolve(np.flip(np.conj(Ex_pad[i]), axis=(0,1)), Ex_pad[j], mode='same')))\n",
    "        My[i,j] = np.fft.fftshift(np.fft.fft2(fftconvolve(np.flip(np.conj(Ey_pad[i]), axis=(0,1)), Ey_pad[j], mode='same')))"
   ]
  },
  {
   "cell_type": "code",
   "execution_count": null,
   "id": "4210118f-4d3c-40f8-9d10-265743f01bff",
   "metadata": {},
   "outputs": [],
   "source": [
    "mxy = np.imag(Mx[2,1]-Mx[1,2])#(2*np.real(Ex_im[2]*np.conj(Ex_im[0])))"
   ]
  },
  {
   "cell_type": "code",
   "execution_count": null,
   "id": "95968a3e-73eb-4825-8a54-13aa97fc904a",
   "metadata": {},
   "outputs": [],
   "source": [
    "plt.rcParams['figure.figsize'] = [7, 5]\n",
    "aa = plt.pcolormesh((mxy))#, norm=LogNorm())\n",
    "plt.xlim((mxy.shape[0]//2-30, mxy.shape[0]//2+30))\n",
    "plt.ylim((mxy.shape[0]//2-30, mxy.shape[0]//2+30))\n",
    "cb = plt.colorbar(aa, pad=0.15, label='Photon number')"
   ]
  },
  {
   "cell_type": "code",
   "execution_count": null,
   "id": "3c46822f-768a-4286-8b75-ab5146c7cefa",
   "metadata": {},
   "outputs": [],
   "source": [
    "psfx = (np.real(np.einsum('a, auv -> uv', lam, np.moveaxis(np.diagonal(np.einsum('ab, bcuv -> acuv', R.T, np.einsum('abuv, bc -> acuv', Mx, R)), axis1=0, axis2=1), -1, 0))))\n",
    "psfy = np.real(np.einsum('a, auv -> uv', lam, np.moveaxis(np.diagonal(np.einsum('ab, bcuv -> acuv', R.T, np.einsum('abuv, bc -> acuv', My, R)), axis1=0, axis2=1), -1, 0)))\n",
    "'''\n",
    "psfx = np.zeros(Ex_im[0].shape, dtype='complex128')\n",
    "for hhh in range(3):\n",
    "    first_sum = np.einsum('a, abcd->bcd', R[hhh], Mx)\n",
    "    psfx += lam[hhh]*np.einsum('abc, a -> bc', first_sum, R[hhh])\n",
    "psfx = np.real(psfx)\n",
    "\n",
    "psfy = np.zeros(Ex_im[0].shape, dtype='complex128')\n",
    "for hhh in range(3):\n",
    "    first_sum = np.einsum('a, abcd->bcd', R[hhh], My)\n",
    "    psfy += lam[hhh]*np.einsum('abc, a -> bc', first_sum, R[hhh])\n",
    "psfy = np.real(psfy)'''"
   ]
  },
  {
   "cell_type": "code",
   "execution_count": null,
   "id": "b69e014d-491c-4b17-b8b4-e058d7b4be00",
   "metadata": {},
   "outputs": [],
   "source": [
    "psf2 = psfx+psfy"
   ]
  },
  {
   "cell_type": "code",
   "execution_count": null,
   "id": "fcbc6691-c326-4135-9de3-29f2373df9e0",
   "metadata": {},
   "outputs": [],
   "source": [
    "plt.rcParams['figure.figsize'] = [15, 5]\n",
    "fig, ax = plt.subplots(1,2)\n",
    "NN = len(psf2)\n",
    "to_fit = psf2[NN//2-21:NN//2+22,NN//2-21:NN//2+22]/np.sum(psf2[NN//2-21:NN//2+22,NN//2-21:NN//2+22])\n",
    "p, sim = fit_psf_in_pixel(to_fit)\n",
    "print(p[3]*10*l_pixel, 0.26*(lambd/NA))\n",
    "vmax2 = np.max(sim)\n",
    "vmax = np.max(to_fit)\n",
    "print(vmax)\n",
    "aa, bb = np.meshgrid(np.arange(to_fit.shape[0])*l_pixel, np.arange(to_fit.shape[0])*l_pixel)\n",
    "me = ax[0].pcolormesh(aa, bb, to_fit, norm=LogNorm(vmin=1e-6, vmax=0.028))\n",
    "cb = plt.colorbar(me, pad=0.15, label='Photon number')\n",
    "mesh2 = ax[1].imshow(sim)#, norm=LogNorm())\n",
    "cb = plt.colorbar(mesh2, pad=0.15, label='Photon number')\n",
    "#ax[0].plot(l_pixel*(21+((1*0.61)*lambd/(10*l_pixel*NA))*np.cos(np.linspace(0, 2*np.pi, 100))), l_pixel*(21+((1*0.61)*lambd/(10*l_pixel*NA))*np.sin(np.linspace(0, 2*np.pi, 100))), c='r')\n",
    "ax[0].set_xlabel('x_camera ($\\mu$m)')\n",
    "ax[0].set_ylabel('y_camera ($\\mu$m)')"
   ]
  },
  {
   "cell_type": "code",
   "execution_count": null,
   "id": "4434baf9-ad6f-4559-8d3b-7d711e0653b6",
   "metadata": {},
   "outputs": [],
   "source": [
    "scalar = np.array([5.75247137e-05, 6.87539038e-05, 4.08164916e-05, 4.41025338e-06,\n",
    "       1.29890657e-05, 8.22916515e-05, 1.56881803e-04, 1.55371646e-04,\n",
    "       6.72128436e-05, 3.86801472e-07, 9.96100110e-05, 3.78341612e-04,\n",
    "       6.31061410e-04, 5.77383917e-04, 2.02453288e-04, 3.32463238e-05,\n",
    "       1.04090992e-03, 4.08718316e-03, 9.20578174e-03, 1.52327794e-02,\n",
    "       2.01512732e-02, 2.20513348e-02, 2.01512732e-02, 1.52327794e-02,\n",
    "       9.20578174e-03, 4.08718316e-03, 1.04090992e-03, 3.32463238e-05,\n",
    "       2.02453288e-04, 5.77383917e-04, 6.31061410e-04, 3.78341612e-04,\n",
    "       9.96100110e-05, 3.86801472e-07, 6.72128436e-05, 1.55371646e-04,\n",
    "       1.56881803e-04, 8.22916515e-05, 1.29890657e-05, 4.41025338e-06,\n",
    "       4.08164916e-05, 6.87539038e-05, 5.75247137e-05])"
   ]
  },
  {
   "cell_type": "code",
   "execution_count": null,
   "id": "06a74bea-2855-4be1-9f47-8b7ffb5cecd5",
   "metadata": {},
   "outputs": [],
   "source": [
    "no_rim = np.array([4.06926329e-05, 4.12862097e-05, 3.72773738e-05, 3.98402774e-05,\n",
    "       5.70649655e-05, 8.22824681e-05, 9.75436957e-05, 9.44600292e-05,\n",
    "       9.30452042e-05, 1.32393538e-04, 2.29926980e-04, 3.44996559e-04,\n",
    "       4.00130284e-04, 3.79279812e-04, 4.49354920e-04, 9.96040719e-04,\n",
    "       2.48780205e-03, 5.19104965e-03, 8.88828162e-03, 1.27987135e-02,\n",
    "       1.58102124e-02, 1.69438265e-02, 1.58102124e-02, 1.27987135e-02,\n",
    "       8.88828162e-03, 5.19104965e-03, 2.48780205e-03, 9.96040719e-04,\n",
    "       4.49354920e-04, 3.79279812e-04, 4.00130284e-04, 3.44996559e-04,\n",
    "       2.29926980e-04, 1.32393538e-04, 9.30452042e-05, 9.44600292e-05,\n",
    "       9.75436957e-05, 8.22824681e-05, 5.70649655e-05, 3.98402774e-05,\n",
    "       3.72773738e-05, 4.12862097e-05, 4.06926329e-05])"
   ]
  },
  {
   "cell_type": "code",
   "execution_count": null,
   "id": "ca23d322-5eb8-48f2-b168-8d4fecb7d977",
   "metadata": {},
   "outputs": [],
   "source": [
    "plt.rcParams['figure.figsize'] = [15, 4]\n",
    "med = (to_fit[22]+ to_fit[23])/2\n",
    "plt.plot(np.arange(len(med))*l_pixel, med, label='Vectorial with RIM', c='b')\n",
    "plt.plot(np.arange(len(med))*l_pixel, scalar, label='Scalar', c='r')\n",
    "plt.plot(np.arange(len(med))*l_pixel, no_rim, label='Vectorial with no RIM', c='g')\n",
    "plt.grid()\n",
    "plt.xlim((25, 150))\n",
    "plt.legend()\n",
    "plt.xlabel('x_camera ($\\mu$m)')\n",
    "plt.ylabel('Intensity (normalized)')"
   ]
  },
  {
   "cell_type": "code",
   "execution_count": null,
   "id": "f908b40b-9391-4c55-a03a-e9f26499dc6d",
   "metadata": {},
   "outputs": [],
   "source": [
    "full_bfpx = np.zeros(Ex_im[0].shape)\n",
    "\n",
    "first_sum = np.einsum('ab, auv -> buv', R, Ex_im)\n",
    "v3X= np.einsum('a, auv -> uv', lam, np.conj(first_sum)*first_sum)\n",
    "\n",
    "first_sum = np.einsum('ab, auv -> buv', R, Ey_im)\n",
    "v3Y = np.einsum('a, auv -> uv', lam, np.conj(first_sum)*first_sum)"
   ]
  },
  {
   "cell_type": "code",
   "execution_count": null,
   "id": "29c6cdef-2bcf-4310-b9d2-896c78f3f8ff",
   "metadata": {},
   "outputs": [],
   "source": [
    "((np.einsum('ab, auv -> buv', R, Ex_im) == np.einsum('ab, buv -> auv', R, Ex_im))==True).all()"
   ]
  },
  {
   "cell_type": "code",
   "execution_count": null,
   "id": "3c6e1a90-4d34-425d-92cb-989568ffc636",
   "metadata": {},
   "outputs": [],
   "source": [
    "psf3 = np.real(v3X) #+v3Y"
   ]
  },
  {
   "cell_type": "code",
   "execution_count": null,
   "id": "b01ebfca-20a1-434d-a176-9c9e61e8ebf0",
   "metadata": {},
   "outputs": [],
   "source": [
    "plt.rcParams['figure.figsize'] = [15, 5]\n",
    "fig, ax = plt.subplots(1,2)\n",
    "NN = len(psf3)\n",
    "to_fit = psf3[NN//2-21:NN//2+22,NN//2-21:NN//2+22]/100000000\n",
    "p, sim = fit_psf_in_pixel(to_fit)\n",
    "print(p[3]*10*l_pixel, 0.26*(lambd/NA))\n",
    "vmax2 = np.max(sim)\n",
    "vmax = np.max(to_fit)\n",
    "me = ax[0].imshow(to_fit, norm=LogNorm())\n",
    "cb = plt.colorbar(me, pad=0.15, label='Photon number')\n",
    "mesh2 = ax[1].imshow(sim)#, norm=LogNorm())\n",
    "cb = plt.colorbar(mesh2, pad=0.15, label='Photon number')"
   ]
  },
  {
   "cell_type": "code",
   "execution_count": null,
   "id": "d256d281-d996-4545-b953-54d3960723d9",
   "metadata": {},
   "outputs": [],
   "source": [
    "psf4 = np.real(np.einsum('auv, auv -> uv', Ex_im, np.einsum('ab, buv -> auv', integral1, np.conj(Ex_im))))"
   ]
  },
  {
   "cell_type": "code",
   "execution_count": null,
   "id": "b248ae0e-3ad7-407b-9764-826be931b744",
   "metadata": {},
   "outputs": [],
   "source": [
    "plt.rcParams['figure.figsize'] = [15, 5]\n",
    "fig, ax = plt.subplots(1,2)\n",
    "NN = len(psf4)\n",
    "to_fit = psf4[NN//2-21:NN//2+22,NN//2-21:NN//2+22]/100000000\n",
    "p, sim = fit_psf_in_pixel(to_fit)\n",
    "print(p[3]*10*l_pixel, 0.26*(lambd/NA))\n",
    "vmax2 = np.max(sim)\n",
    "vmax = np.max(to_fit)\n",
    "me = ax[0].imshow(to_fit, norm=LogNorm())\n",
    "cb = plt.colorbar(me, pad=0.15, label='Photon number')\n",
    "mesh2 = ax[1].imshow(sim)#, norm=LogNorm())\n",
    "cb = plt.colorbar(mesh2, pad=0.15, label='Photon number')"
   ]
  },
  {
   "cell_type": "code",
   "execution_count": null,
   "id": "13c51f40-0570-4eea-9bcb-ed94cb6a773d",
   "metadata": {},
   "outputs": [],
   "source": []
  },
  {
   "cell_type": "code",
   "execution_count": null,
   "id": "634df8a2-908f-468f-85a7-f39f3a0ac8a1",
   "metadata": {},
   "outputs": [],
   "source": []
  },
  {
   "cell_type": "code",
   "execution_count": null,
   "id": "6d7817c7-2792-4d26-a821-9917f3c48123",
   "metadata": {},
   "outputs": [],
   "source": [
    "R"
   ]
  },
  {
   "cell_type": "code",
   "execution_count": null,
   "id": "d075b30e-5754-4621-b5c6-910250c58afe",
   "metadata": {},
   "outputs": [],
   "source": [
    "lam"
   ]
  },
  {
   "cell_type": "code",
   "execution_count": null,
   "id": "6d01bc8e-5923-45d9-8661-3d1e0db0e9cb",
   "metadata": {},
   "outputs": [],
   "source": [
    "field = Ex0 + Ex1+Ex2"
   ]
  },
  {
   "cell_type": "code",
   "execution_count": null,
   "id": "4bd30c81-9b18-41bc-9ca6-4344e02a1784",
   "metadata": {},
   "outputs": [],
   "source": [
    "intensity = Ex0*np.conj(Ex0) + Ex1*np.conj(Ex1) + Ex2*np.conj(Ex2)"
   ]
  },
  {
   "cell_type": "code",
   "execution_count": null,
   "id": "447eac74-70c6-448f-9fca-f3eb10834a6e",
   "metadata": {},
   "outputs": [],
   "source": [
    "version1 = np.zeros((N+Npadding, N+Npadding), dtype='float64')\n",
    "version1[Npadding//2:Npadding//2+N,Npadding//2:Npadding//2+N] = (field/np.sqrt(np.cos(th1)))*np.exp(2*1j*np.pi*n1*0.*np.sqrt(1-(np.sin(th1))**2)/0.617)"
   ]
  },
  {
   "cell_type": "code",
   "execution_count": null,
   "id": "e77a4a35-6a4d-4ab6-9135-8418b88abc7f",
   "metadata": {},
   "outputs": [],
   "source": [
    "plt.imshow(version1)"
   ]
  },
  {
   "cell_type": "code",
   "execution_count": null,
   "id": "a800e0b1-b259-438c-ab00-b29d3977271e",
   "metadata": {},
   "outputs": [],
   "source": [
    "P_dipole3_x = -np.sin(eta)*np.cos(rho)*np.sqrt(lam[2])\n",
    "P_dipole3_y = -np.sin(eta)*np.sin(rho)*np.sqrt(lam[2])\n",
    "P_dipole3_z = np.cos(eta)*np.sqrt(lam[2])\n",
    "\n",
    "P_dipole2_x = -np.cos(eta)*np.cos(rho)*np.sqrt(lam[1])\n",
    "P_dipole2_y = -np.cos(eta)*np.sin(rho)*np.sqrt(lam[1])\n",
    "P_dipole2_z = -np.sin(eta)*np.sqrt(lam[1])\n",
    "\n",
    "P_dipole1_x = -np.sin(rho)*np.sqrt(lam[0])\n",
    "P_dipole1_y = np.cos(rho)*np.sqrt(lam[0])\n",
    "P_dipole1_z = 0"
   ]
  },
  {
   "cell_type": "code",
   "execution_count": null,
   "id": "d1123012-425b-4b79-ae83-7bba84af9292",
   "metadata": {},
   "outputs": [],
   "source": [
    "Ex1BFP = Ex_pad[0]*P_dipole1_x + Ex_pad[1]*P_dipole1_y + Ex_pad[2]*P_dipole1_z\n",
    "Ex2BFP = Ex_pad[0]*P_dipole2_x + Ex_pad[1]*P_dipole2_y + Ex_pad[2]*P_dipole2_z\n",
    "Ex3BFP = Ex_pad[0]*P_dipole3_x + Ex_pad[1]*P_dipole3_y + Ex_pad[2]*P_dipole3_z"
   ]
  },
  {
   "cell_type": "code",
   "execution_count": null,
   "id": "737b53c4-1b55-44e0-8ccb-a1513fc7950e",
   "metadata": {},
   "outputs": [],
   "source": [
    "Ifftx = np.abs(np.fft.fftshift(np.fft.fft2(np.fft.ifftshift(Ex1BFP))))**2 + np.abs(np.fft.fftshift(np.fft.fft2(np.fft.ifftshift(Ex2BFP))))**2 + np.abs(np.fft.fftshift(np.fft.fft2(np.fft.ifftshift(Ex3BFP))))**2"
   ]
  },
  {
   "cell_type": "code",
   "execution_count": null,
   "id": "af4be86b-371f-4207-b569-263f79fe2827",
   "metadata": {},
   "outputs": [],
   "source": [
    "plt.rcParams['figure.figsize'] = [15, 5]\n",
    "fig, ax = plt.subplots(1,2)\n",
    "NN = len(Ifftx)\n",
    "to_fit = Ifftx[NN//2-21:NN//2+22,NN//2-21:NN//2+22]/100000000\n",
    "p, sim = fit_psf_in_pixel(to_fit)\n",
    "print(p[3]*10*l_pixel, 0.26*(lambd/NA))\n",
    "vmax2 = np.max(sim)\n",
    "vmax = np.max(to_fit)\n",
    "me = ax[0].imshow(to_fit, norm=LogNorm())\n",
    "cb = plt.colorbar(me, pad=0.15, label='Photon number')\n",
    "mesh2 = ax[1].imshow(sim)#, norm=LogNorm())\n",
    "cb = plt.colorbar(mesh2, pad=0.15, label='Photon number')"
   ]
  },
  {
   "cell_type": "code",
   "execution_count": null,
   "id": "8de0c6d5-b132-4dc2-9b62-8da2ecbdc538",
   "metadata": {},
   "outputs": [],
   "source": []
  },
  {
   "cell_type": "markdown",
   "id": "72ff19de-97c3-41e7-893d-b7c15a185bc5",
   "metadata": {},
   "source": [
    "# Basis function version"
   ]
  },
  {
   "cell_type": "code",
   "execution_count": null,
   "id": "f0fb86c7-930d-46f9-821d-9e6421dbb4b3",
   "metadata": {},
   "outputs": [],
   "source": [
    "# u and v are meshgrids corresponding to the image plane coordinates\n",
    "# M --> see theoretical description\n",
    "\n",
    "# THIS PART IS DEPENDANT ONTHE SPATIAL COORDINATES OF THE EMITTER AND THE FOCUS POSITION BUT NOT THE ORIENTATION"
   ]
  },
  {
   "cell_type": "code",
   "execution_count": null,
   "id": "82b1dabe-0982-44af-90db-83026c178dc2",
   "metadata": {},
   "outputs": [],
   "source": [
    "u, v, M = compute_M(xp=xp, yp=yp, zp=z, d=d_, x=x, y=y, th1=th1, phi=phi, Ex0=Ex0, Ex1=Ex1, Ex2=Ex2\n",
    "                    , Ey0=Ey0, Ey1=Ey1, Ey2=Ey2, r=r, r_cut=r_cut, k=k, f_o=f_o, N=N, l_pixel=l_pixel, NA=NA, mag=mag, lambd=lambd, f_tube=f_tube, MAG=MAG,\n",
    "                   )#aberrations=True, defocus_coef=1e-5, spherical_coef=-1.5)"
   ]
  },
  {
   "cell_type": "code",
   "execution_count": null,
   "id": "a4c3521e-58b9-44d3-9712-83aa0eccd503",
   "metadata": {},
   "outputs": [],
   "source": [
    "M.shape"
   ]
  },
  {
   "cell_type": "code",
   "execution_count": null,
   "id": "27f0c7e2-3407-4c97-bafb-24998e12d5ea",
   "metadata": {},
   "outputs": [],
   "source": [
    "M.dtype"
   ]
  },
  {
   "cell_type": "code",
   "execution_count": null,
   "id": "ba62bda6-92f0-46fe-bb14-8fbd498cf2fd",
   "metadata": {},
   "outputs": [],
   "source": [
    "# HERE COMES THE ORIENTATION"
   ]
  },
  {
   "cell_type": "code",
   "execution_count": null,
   "id": "62c86fb9-8f64-42bc-b3e9-e7420b3e91e2",
   "metadata": {},
   "outputs": [],
   "source": [
    "psf = PSF(rho=rho, eta=eta, delta=delta, M=M, N_photons=N_photons)"
   ]
  },
  {
   "cell_type": "code",
   "execution_count": null,
   "id": "15085b0d-01de-40dd-8ed0-71b7e33a0f72",
   "metadata": {},
   "outputs": [],
   "source": [
    "psf.shape"
   ]
  },
  {
   "cell_type": "code",
   "execution_count": null,
   "id": "0b637866-945c-4ba0-9033-e6ce55b40715",
   "metadata": {},
   "outputs": [],
   "source": [
    "# the result is of dimension 3 (polar, x_image, y_image) or 4 if rho ... are tensors of dimension N (several psf computed)\n",
    "# then the dimension is () (N, polar, x_image, y_image)"
   ]
  },
  {
   "cell_type": "code",
   "execution_count": null,
   "id": "3bbf54ce-a066-4e8e-850d-68b8c4b13417",
   "metadata": {
    "scrolled": true
   },
   "outputs": [],
   "source": [
    "x_lim = 100\n",
    "plt.rcParams['figure.figsize'] = [25, 5]\n",
    "fig, ax = plt.subplots(1,3)\n",
    "\n",
    "if isinstance(psf, torch.Tensor):\n",
    "    if len(psf.shape)==3:\n",
    "        psfx = psf[0].detach().numpy()\n",
    "        psfy = psf[1].detach().numpy()\n",
    "    elif len(psf.shape)==4:\n",
    "        psfx = psf[0,0].detach().numpy()\n",
    "        psfy = psf[0,1].detach().numpy()\n",
    "    else:\n",
    "        psfx = psf[0,0,0].detach().numpy()\n",
    "        psfy = psf[0,0,1].detach().numpy()\n",
    "    if xp.ndim!=0:\n",
    "        xpp = xp[0]\n",
    "        ypp = yp[0]\n",
    "    psf_unpolarized = psfx+psfy\n",
    "else:\n",
    "    xpp = xp\n",
    "    ypp = yp\n",
    "    psfx = psf[0]\n",
    "    psfy = psf[1]\n",
    "    psf_unpolarized = psfx+psfy\n",
    "\n",
    "if version=='numpy':\n",
    "    maag = 0.001*(MAG*mag)\n",
    "    r_circle = (0.61*lambd/NA)*maag\n",
    "else:\n",
    "    maag = 0.001*(MAG*mag).detach().numpy()\n",
    "    r_circle = (0.61*lambd/NA).detach().numpy()*maag\n",
    "print(r_circle)\n",
    "\n",
    "mesh = ax[0].pcolormesh(u, v, psfx, cmap='gray')\n",
    "ax[0].set_xlim((xpp*mag*MAG-x_lim, xpp*mag*MAG+x_lim))\n",
    "ax[0].set_ylim((ypp*mag*MAG-x_lim, ypp*mag*MAG+x_lim))\n",
    "ax[0].set_xlabel('x_camera ($\\\\mu$m)')\n",
    "ax[0].set_ylabel('y_camera ($\\\\mu$m)')\n",
    "ax[0].set_title('x polarization')\n",
    "secax = ax[0].secondary_xaxis('top', functions=(lambda x : 1000*x/(mag*MAG), lambda x : 0.001*mag*MAG*x))\n",
    "secax2 = ax[0].secondary_yaxis('right', functions=(lambda x : 1000*x/(mag*MAG), lambda x : 0.001*mag*MAG*x))\n",
    "secax.set_xlabel('x_sample (nm)')\n",
    "secax2.set_ylabel('y_sample (nm)')\n",
    "cb = plt.colorbar(mesh, pad=0.15, label='Photon number')\n",
    "\n",
    "mesh1 = ax[1].pcolormesh(u, v, psfy, cmap='gray')\n",
    "ax[1].set_xlim((xpp*mag*MAG-x_lim, xpp*mag*MAG+x_lim))\n",
    "ax[1].set_ylim((ypp*mag*MAG-x_lim, ypp*mag*MAG+x_lim))\n",
    "ax[1].set_xlabel('x_camera ($\\\\mu$m)')\n",
    "ax[1].set_ylabel('y_camera ($\\\\mu$m)')\n",
    "ax[1].set_title('y polarization')\n",
    "secax = ax[1].secondary_xaxis('top', functions=(lambda x : 1000*x/(mag*MAG), lambda x : 0.001*mag*MAG*x))\n",
    "secax2 = ax[1].secondary_yaxis('right', functions=(lambda x : 1000*x/(mag*MAG), lambda x : 0.001*mag*MAG*x))\n",
    "secax.set_xlabel('x_sample (nm)')\n",
    "secax2.set_ylabel('y_sample (nm)')\n",
    "cb = plt.colorbar(mesh1, pad=0.15, label='Photon number')\n",
    "\n",
    "mesh2 = ax[2].pcolormesh(u, v, psf_unpolarized, cmap='gray')#, norm=LogNorm())\n",
    "ax[2].plot(r_circle*np.cos(np.linspace(0,2*np.pi,100)), r_circle*np.sin(np.linspace(0,2*np.pi,100)), c='r')\n",
    "ax[2].set_xlim((xpp*mag*MAG-x_lim, xpp*mag*MAG+x_lim))\n",
    "ax[2].set_ylim((ypp*mag*MAG-x_lim, ypp*mag*MAG+x_lim))\n",
    "ax[2].set_xlabel('x_camera ($\\\\mu$m)')\n",
    "ax[2].set_ylabel('y_camera ($\\\\mu$m)')\n",
    "ax[2].set_title('unpolarized')\n",
    "secax = ax[2].secondary_xaxis('top', functions=(lambda x : 1000*x/(mag*MAG), lambda x : 0.001*mag*MAG*x))\n",
    "secax2 = ax[2].secondary_yaxis('right', functions=(lambda x : 1000*x/(mag*MAG), lambda x : 0.001*mag*MAG*x))\n",
    "secax.set_xlabel('x_sample (nm)')\n",
    "secax2.set_ylabel('y_sample (nm)')\n",
    "cb = plt.colorbar(mesh2, pad=0.15, label='Photon number')"
   ]
  },
  {
   "cell_type": "code",
   "execution_count": null,
   "id": "e83a4a92-5bdb-49b4-a161-82d62ff9fef4",
   "metadata": {},
   "outputs": [],
   "source": [
    "fig, ax = plt.subplots(1,2)\n",
    "NN = len(psf_unpolarized)\n",
    "to_fit = psf_unpolarized[NN//2-11:NN//2+12,NN//2-11:NN//2+12]\n",
    "p, sim = fit_psf_in_pixel(to_fit)\n",
    "print(p[3]*120, (0.51/2.355)*(lambd/NA))\n",
    "vmax2 = np.max(sim)\n",
    "vmax = np.max(to_fit)\n",
    "me = ax[0].imshow(to_fit)\n",
    "cb = plt.colorbar(me, pad=0.15, label='Photon number')\n",
    "mesh2 = ax[1].imshow(sim, vmin=0, vmax=vmax2)\n",
    "cb = plt.colorbar(mesh2, pad=0.15, label='Photon number')"
   ]
  },
  {
   "cell_type": "markdown",
   "id": "8540ca2b-5432-4816-a672-1780b8d18199",
   "metadata": {},
   "source": [
    "# Noise"
   ]
  },
  {
   "cell_type": "code",
   "execution_count": null,
   "id": "b5cd92b2-0afe-4384-ad7c-cfd0ba560366",
   "metadata": {},
   "outputs": [],
   "source": [
    "psf_0_noisy = noise(psfx, QE=1, EM=1, b=5., sigma_b=2., sigma_r=6., bias=12.)\n",
    "psf_1_noisy = noise(psfy, QE=1, EM=1, b=5., sigma_b=2., sigma_r=6., bias=12.)\n",
    "\n",
    "x_lim = 150\n",
    "plt.rcParams['figure.figsize'] = [25, 5]\n",
    "fig, ax = plt.subplots(1,3)\n",
    "\n",
    "if isinstance(psf_0_noisy, torch.Tensor):\n",
    "    psf_0_noisy = psf_0_noisy.detach().numpy()\n",
    "    psf_1_noisy = psf_1_noisy.detach().numpy()\n",
    "\n",
    "mesh = ax[0].pcolormesh(u, v, psf_0_noisy, cmap='gray')\n",
    "ax[0].set_xlim((xpp*mag*MAG-x_lim, xpp*mag*MAG+x_lim))\n",
    "ax[0].set_ylim((ypp*mag*MAG-x_lim, ypp*mag*MAG+x_lim))\n",
    "ax[0].set_xlabel('x_camera ($\\\\mu$m)')\n",
    "ax[0].set_ylabel('y_camera ($\\\\mu$m)')\n",
    "ax[0].set_title('x polarization')\n",
    "secax = ax[0].secondary_xaxis('top', functions=(lambda x : 1000*x/(mag*MAG), lambda x : 0.001*mag*MAG*x))\n",
    "secax2 = ax[0].secondary_yaxis('right', functions=(lambda x : 1000*x/(mag*MAG), lambda x : 0.001*mag*MAG*x))\n",
    "secax.set_xlabel('x_sample (nm)')\n",
    "secax2.set_ylabel('y_sample (nm)')\n",
    "cb = plt.colorbar(mesh, pad=0.15, label='Photon number')\n",
    "\n",
    "mesh1 = ax[1].pcolormesh(u, v, psf_1_noisy, cmap='gray')\n",
    "ax[1].set_xlim((xpp*mag*MAG-x_lim, xpp*mag*MAG+x_lim))\n",
    "ax[1].set_ylim((ypp*mag*MAG-x_lim, ypp*mag*MAG+x_lim))\n",
    "ax[1].set_xlabel('x_camera ($\\\\mu$m)')\n",
    "ax[1].set_ylabel('y_camera ($\\\\mu$m)')\n",
    "ax[1].set_title('y polarization')\n",
    "secax = ax[1].secondary_xaxis('top', functions=(lambda x : 1000*x/(mag*MAG), lambda x : 0.001*mag*MAG*x))\n",
    "secax2 = ax[1].secondary_yaxis('right', functions=(lambda x : 1000*x/(mag*MAG), lambda x : 0.001*mag*MAG*x))\n",
    "secax.set_xlabel('x_sample (nm)')\n",
    "secax2.set_ylabel('y_sample (nm)')\n",
    "cb = plt.colorbar(mesh1, pad=0.15, label='Photon number')\n",
    "\n",
    "mesh2 = ax[2].pcolormesh(u, v, psf_0_noisy+psf_1_noisy, cmap='gray')\n",
    "ax[2].set_xlim((xpp*mag*MAG-x_lim, xpp*mag*MAG+x_lim))\n",
    "ax[2].set_ylim((ypp*mag*MAG-x_lim, ypp*mag*MAG+x_lim))\n",
    "ax[2].set_xlabel('x_camera ($\\\\mu$m)')\n",
    "ax[2].set_ylabel('y_camera ($\\\\mu$m)')\n",
    "ax[2].set_title('unpolarized')\n",
    "secax = ax[2].secondary_xaxis('top', functions=(lambda x : 1000*x/(mag*MAG), lambda x : 0.001*mag*MAG*x))\n",
    "secax2 = ax[2].secondary_yaxis('right', functions=(lambda x : 1000*x/(mag*MAG), lambda x : 0.001*mag*MAG*x))\n",
    "secax.set_xlabel('x_sample (nm)')\n",
    "secax2.set_ylabel('y_sample (nm)')\n",
    "cb = plt.colorbar(mesh2, pad=0.15, label='Photon number')"
   ]
  },
  {
   "cell_type": "markdown",
   "id": "ff8c4dd1-4d0d-42a9-b5d3-d0bab1ce42cf",
   "metadata": {},
   "source": [
    "# gaussian fit"
   ]
  },
  {
   "cell_type": "code",
   "execution_count": null,
   "id": "bbe1abc3-4fcf-48b5-98c4-850ee450c2aa",
   "metadata": {},
   "outputs": [],
   "source": [
    "def gauss(coords, A, mu1, mu2, s, c):\n",
    "    x, y = coords\n",
    "    return (16**2)*A*(1/(2*np.pi*(s**2)))*np.exp(-0.5*(((x-mu1)**2+(y-mu2)**2)/((s**2)))) + c"
   ]
  },
  {
   "cell_type": "code",
   "execution_count": null,
   "id": "0e2c60cb-551d-4617-8d3a-59ff393fb4cc",
   "metadata": {},
   "outputs": [],
   "source": [
    "np.sum(psf_unpolarized)"
   ]
  },
  {
   "cell_type": "code",
   "execution_count": null,
   "id": "37cf1292-4615-476a-89ec-f7f64a3c70de",
   "metadata": {},
   "outputs": [],
   "source": [
    "X = u.detach().numpy()\n",
    "Y = v.detach().numpy()"
   ]
  },
  {
   "cell_type": "code",
   "execution_count": null,
   "id": "81a0439e-f352-453f-9d46-931b0af4001e",
   "metadata": {},
   "outputs": [],
   "source": [
    "xdata = np.vstack((X.ravel(), Y.ravel()))\n",
    "zdata = psf_unpolarized.ravel()"
   ]
  },
  {
   "cell_type": "code",
   "execution_count": null,
   "id": "e9bb3f40-e554-4ba4-8b53-88ff6a1d3243",
   "metadata": {},
   "outputs": [],
   "source": [
    "p, pcov = curve_fit(gauss, xdata, zdata, p0=(1000, 15, 15, 35, 2))"
   ]
  },
  {
   "cell_type": "code",
   "execution_count": null,
   "id": "3b6f5748-3c92-422a-b12b-ec74adeb63f0",
   "metadata": {},
   "outputs": [],
   "source": [
    "p"
   ]
  },
  {
   "cell_type": "code",
   "execution_count": null,
   "id": "719e2e2e-576b-4955-8a5a-04edafe26dd8",
   "metadata": {},
   "outputs": [],
   "source": [
    "sim = gauss((X, Y), p[0], p[1], p[2], p[3], p[4])"
   ]
  },
  {
   "cell_type": "code",
   "execution_count": null,
   "id": "d6756db7-4076-4cbc-bbdc-fa9f2796f8e6",
   "metadata": {},
   "outputs": [],
   "source": [
    "print(np.sum(sim[sim.shape[0]//2-6:sim.shape[0]//2+7,sim.shape[0]//2-6:sim.shape[0]//2+7]))\n",
    "print(np.sum(sim))\n",
    "print(np.sum(psf_unpolarized[sim.shape[0]//2-6:sim.shape[0]//2+7,sim.shape[0]//2-6:sim.shape[0]//2+7]))\n",
    "print(np.sum(psf_unpolarized))"
   ]
  },
  {
   "cell_type": "code",
   "execution_count": null,
   "id": "ae416aad-8939-44c7-bd8a-c32ba801dbb1",
   "metadata": {},
   "outputs": [],
   "source": [
    "plt.rcParams['figure.figsize'] = [7, 5]\n",
    "mee = plt.pcolormesh(u.detach().numpy(), v.detach().numpy(), sim)\n",
    "plt.xlim((-200,200))\n",
    "plt.ylim((-200,200))\n",
    "cb = plt.colorbar(mee, pad=0.15, label='Photon number')\n",
    "print(np.sum(sim))"
   ]
  },
  {
   "cell_type": "markdown",
   "id": "e1317f6c-be50-4fdf-a3e4-3ffc8fed5127",
   "metadata": {},
   "source": [
    "# Several planes"
   ]
  },
  {
   "cell_type": "markdown",
   "id": "2cf7127c-54ad-4e73-9e4c-d8a34d756177",
   "metadata": {},
   "source": [
    "## Needs to be in \"several psf mode\" "
   ]
  },
  {
   "cell_type": "code",
   "execution_count": null,
   "id": "52a4feff-43ec-4f8d-b638-000ba5d570e5",
   "metadata": {},
   "outputs": [],
   "source": [
    "second_plane = [-0.8, 0.4]"
   ]
  },
  {
   "cell_type": "code",
   "execution_count": null,
   "id": "28ed8b9b-c25f-4a21-a525-a5abddf7d962",
   "metadata": {},
   "outputs": [],
   "source": [
    "u, v, M = compute_M(xp=xp, yp=yp, zp=z, d=d_, x=x, y=y, th1=th1, phi=phi, Ex0=Ex0, Ex1=Ex1, Ex2=Ex2\n",
    "                    , Ey0=Ey0, Ey1=Ey1, Ey2=Ey2, r=r, r_cut=r_cut, k=k, f_o=f_o, second_plane=second_plane, N=N, l_pixel=l_pixel, NA=NA, mag=mag, lambd=lambd, f_tube=f_tube, MAG=MAG,\n",
    "                   )#aberrations=True, defocus_coef=1.5, spherical_coef=1e-5)"
   ]
  },
  {
   "cell_type": "code",
   "execution_count": null,
   "id": "20566854-23bb-485c-b87b-36e78981e328",
   "metadata": {},
   "outputs": [],
   "source": [
    "M.shape"
   ]
  },
  {
   "cell_type": "code",
   "execution_count": null,
   "id": "a794ecda-0fd3-4c6a-9769-0655c303a8d1",
   "metadata": {},
   "outputs": [],
   "source": [
    "psf = PSF(rho=rho, eta=eta, delta=delta, M=M, N_photons=torch.tensor([3000.]))"
   ]
  },
  {
   "cell_type": "code",
   "execution_count": null,
   "id": "3b79292f-f138-4a89-ac5c-744b1e19780f",
   "metadata": {},
   "outputs": [],
   "source": [
    "psf.shape"
   ]
  },
  {
   "cell_type": "code",
   "execution_count": null,
   "id": "40a44b0e-1538-40d7-9f42-cb88ae86581f",
   "metadata": {},
   "outputs": [],
   "source": [
    "torch.sum(psf[0])"
   ]
  },
  {
   "cell_type": "markdown",
   "id": "b8bf1650-6b2e-4970-be90-8667217f00d6",
   "metadata": {},
   "source": [
    "The first dimension is the number of the psf, the second is the plane, the third is the polarization projection and the two others are x, y"
   ]
  },
  {
   "cell_type": "markdown",
   "id": "282c4c9f-3ba3-4907-a125-642d3c275845",
   "metadata": {},
   "source": [
    "if second_plane=None, there is only one plane simulated and the polarization projection is 0/90, and the result is only of dimension 4 (cf previous part)"
   ]
  },
  {
   "cell_type": "markdown",
   "id": "b4397b68-b17d-4ec6-9479-df57301451f6",
   "metadata": {},
   "source": [
    "if second_plane = [a], then two plane are simulated. The first is the principal (in d), and the second corresponds to d+a (warning the convention for d is to take it negative, and thus same for a). The principal plane is projected on 45/135 and the second on 0, 90."
   ]
  },
  {
   "cell_type": "markdown",
   "id": "00a68f8c-83d8-4240-927d-929b77c17cb1",
   "metadata": {},
   "source": [
    "if second_plane = [a, b], then 3 plane are simulated. In the order of the array, (d+b, d, d+a), with projections (0, 45, 0.)"
   ]
  },
  {
   "cell_type": "code",
   "execution_count": null,
   "id": "52cdcf2d-fed8-407a-92c0-5a08956ad057",
   "metadata": {},
   "outputs": [],
   "source": [
    "# choose the plane you want to image\n",
    "plane_nb = 1"
   ]
  },
  {
   "cell_type": "code",
   "execution_count": null,
   "id": "246dbaa0-46f1-443e-af99-489fe50b7863",
   "metadata": {},
   "outputs": [],
   "source": [
    "x_lim = 200\n",
    "plt.rcParams['figure.figsize'] = [25, 5]\n",
    "fig, ax = plt.subplots(1,3)\n",
    "\n",
    "psfx = psf[0,plane_nb ,0].detach().numpy()\n",
    "psfy = psf[0,plane_nb ,1].detach().numpy()\n",
    "xpp = xp[0]\n",
    "ypp = yp[0]\n",
    "psf_unpolarized = psfx+psfy\n",
    "\n",
    "\n",
    "mesh = ax[0].pcolormesh(u, v, psfx, cmap='gray')\n",
    "ax[0].set_xlim((xpp*mag*MAG-x_lim, xpp*mag*MAG+x_lim))\n",
    "ax[0].set_ylim((ypp*mag*MAG-x_lim, ypp*mag*MAG+x_lim))\n",
    "ax[0].set_xlabel('x_camera ($\\\\mu$m)')\n",
    "ax[0].set_ylabel('y_camera ($\\\\mu$m)')\n",
    "ax[0].set_title('x polarization')\n",
    "secax = ax[0].secondary_xaxis('top', functions=(lambda x : 1000*x/(mag*MAG), lambda x : 0.001*mag*MAG*x))\n",
    "secax2 = ax[0].secondary_yaxis('right', functions=(lambda x : 1000*x/(mag*MAG), lambda x : 0.001*mag*MAG*x))\n",
    "secax.set_xlabel('x_sample (nm)')\n",
    "secax2.set_ylabel('y_sample (nm)')\n",
    "cb = plt.colorbar(mesh, pad=0.15, label='Photon number')\n",
    "\n",
    "mesh1 = ax[1].pcolormesh(u, v, psfy, cmap='gray')\n",
    "ax[1].set_xlim((xpp*mag*MAG-x_lim, xpp*mag*MAG+x_lim))\n",
    "ax[1].set_ylim((ypp*mag*MAG-x_lim, ypp*mag*MAG+x_lim))\n",
    "ax[1].set_xlabel('x_camera ($\\\\mu$m)')\n",
    "ax[1].set_ylabel('y_camera ($\\\\mu$m)')\n",
    "ax[1].set_title('y polarization')\n",
    "secax = ax[1].secondary_xaxis('top', functions=(lambda x : 1000*x/(mag*MAG), lambda x : 0.001*mag*MAG*x))\n",
    "secax2 = ax[1].secondary_yaxis('right', functions=(lambda x : 1000*x/(mag*MAG), lambda x : 0.001*mag*MAG*x))\n",
    "secax.set_xlabel('x_sample (nm)')\n",
    "secax2.set_ylabel('y_sample (nm)')\n",
    "cb = plt.colorbar(mesh1, pad=0.15, label='Photon number')\n",
    "\n",
    "mesh2 = ax[2].pcolormesh(u, v, psf_unpolarized, cmap='gray')\n",
    "ax[2].set_xlim((xpp*mag*MAG-x_lim, xpp*mag*MAG+x_lim))\n",
    "ax[2].set_ylim((ypp*mag*MAG-x_lim, ypp*mag*MAG+x_lim))\n",
    "ax[2].set_xlabel('x_camera ($\\\\mu$m)')\n",
    "ax[2].set_ylabel('y_camera ($\\\\mu$m)')\n",
    "ax[2].set_title('unpolarized')\n",
    "secax = ax[2].secondary_xaxis('top', functions=(lambda x : 1000*x/(mag*MAG), lambda x : 0.001*mag*MAG*x))\n",
    "secax2 = ax[2].secondary_yaxis('right', functions=(lambda x : 1000*x/(mag*MAG), lambda x : 0.001*mag*MAG*x))\n",
    "secax.set_xlabel('x_sample (nm)')\n",
    "secax2.set_ylabel('y_sample (nm)')\n",
    "cb = plt.colorbar(mesh2, pad=0.15, label='Photon number')"
   ]
  },
  {
   "cell_type": "markdown",
   "id": "eead34de-e4b4-4732-9ec8-2f0314003fd4",
   "metadata": {},
   "source": [
    "# Focus"
   ]
  },
  {
   "cell_type": "code",
   "execution_count": null,
   "id": "82f54d29-2683-4027-84c3-f63a8da4fe64",
   "metadata": {},
   "outputs": [],
   "source": [
    "nn = 150"
   ]
  },
  {
   "cell_type": "code",
   "execution_count": null,
   "id": "69405ff9-aebb-40ca-9128-d373306718a8",
   "metadata": {},
   "outputs": [],
   "source": [
    "z_list = np.linspace(0.,100.,100)"
   ]
  },
  {
   "cell_type": "code",
   "execution_count": null,
   "id": "a30e54a2-3bc0-4619-9a4f-48b7a95e2eb6",
   "metadata": {},
   "outputs": [],
   "source": [
    "def fitting(xx, xx0, a, off):\n",
    "    return a*(xx-xx0)**2+off"
   ]
  },
  {
   "cell_type": "code",
   "execution_count": null,
   "id": "2b431eef-b143-4cd5-b5f9-ef7521533950",
   "metadata": {},
   "outputs": [],
   "source": [
    "def Gaussian2D_centered(xy, sigma, A):\n",
    "    x, y = xy\n",
    "    return A*np.exp(-(x**2)/(2*sigma**2) - (y**2)/(2*sigma**2))"
   ]
  },
  {
   "cell_type": "code",
   "execution_count": null,
   "id": "baf7dbd7-c0b3-49dc-a15f-a0872c612fa9",
   "metadata": {},
   "outputs": [],
   "source": [
    "xi_list = []\n",
    "for zz in tqdm(z_list):\n",
    "    xp = torch.tensor([0. for i in range(nn)])\n",
    "    yp = torch.tensor([0. for i in range(nn)])\n",
    "    zp = torch.tensor([zz for i in range(nn)])\n",
    "    rho = torch.tensor([50. for i in range(nn)])\n",
    "    eta = torch.tensor([80. for i in range(nn)])\n",
    "    delta = torch.tensor([160. for i in range(nn)])\n",
    "    \n",
    "    d = torch.tensor(np.linspace(-zz, -2*zz, nn))\n",
    "    \n",
    "    u, v, M = compute_M(xp=xp, yp=yp, zp=zp, d=d, x=x, y=y, th1=th1, phi=phi, Ex0=Ex0, Ex1=Ex1, Ex2=Ex2\n",
    "                    , Ey0=Ey0, Ey1=Ey1, Ey2=Ey2, r=r, r_cut=r_cut, k=k, f_o=f_o, N=N, l_pixel=l_pixel, NA=NA, mag=mag, lambd=lambd, f_tube=f_tube, MAG=MAG)\n",
    "    psf_ = PSF(rho=rho, eta=eta, delta=delta, M=M, N_photons=N_photons).detach().numpy()\n",
    "    psf_ = np.sum(psf_, axis=1)\n",
    "\n",
    "    n = int(psf_.shape[-1]/2)\n",
    "    index = np.argmax(np.sum(psf_[:,n-1:n+2, n-1:n+2], axis=(1,2)))    \n",
    "\n",
    "    xi_list.append(zp.detach().numpy()[0]/(-d.detach().numpy()[index])) #int(p[0])"
   ]
  },
  {
   "cell_type": "code",
   "execution_count": null,
   "id": "2cfa71dd-87b3-4a12-8820-ac54638396ec",
   "metadata": {},
   "outputs": [],
   "source": [
    "plt.rcParams['figure.figsize'] = [5, 5]\n",
    "plt.scatter(z_list, xi_list)"
   ]
  },
  {
   "cell_type": "code",
   "execution_count": null,
   "id": "1a67588c-8e05-4db9-97d9-37e25ffbe99c",
   "metadata": {},
   "outputs": [],
   "source": [
    "#z_lunit = [1,2,3,4,5,6,7,8,9,10,20,50,70,120]\n",
    "#z = [0.617, 1.2340, 1.8510, 2.4680, 3.0850, 3.7020, 4.3190, 4.9360, 5.5530, 6.1700, 12.3400, 30.8500, 43.1900, 74.0400, 100.]\n",
    "#xi_moi = [0.5896, 0.6385, 0.6683, 0.7135, 0.726446, 0.7413, 0.7347, 0.7569, 0.7418, 0.7515, 0.7637, 0.8121, 0.8173, 0.8286, 0.8355]\n",
    "#xi_yan = [0.6230, 0.6431, 0.6500, 0.6701, 0.6689, 0.6796, 0.6874, 0.6933, 0.6900, 0.6952, 0.7128, 0.7247, 0.7331, 0.7398, 0.7433]\n",
    "z = np.linspace(0.,100.,100)[1:]\n",
    "xi_moi = [0.6234309623430963, 0.680365296803653, 0.6930232558139535, 0.7303921568627451, 0.7450000000000001, 0.7525252525252525, 0.7680412371134021, 0.7563451776649746, 0.7525252525252525, 0.772020725388601, 0.7883597883597884, 0.7680412371134021, 0.7925531914893618, 0.7883597883597885, 0.7801047120418848, 0.8054054054054054, 0.8010752688172043, 0.7801047120418848, 0.8010752688172044, 0.8010752688172043, 0.7883597883597883, 0.7842105263157895, 0.8142076502732241, 0.8054054054054054, 0.8097826086956522, 0.8054054054054054, 0.8010752688172043, 0.8232044198895028, 0.8142076502732241, 0.814207650273224, 0.8097826086956522, 0.8277777777777778, 0.8186813186813187, 0.8097826086956521, 0.8097826086956521, 0.8054054054054054, 0.8232044198895028, 0.8232044198895027, 0.8277777777777778, 0.8277777777777778, 0.8277777777777777, 0.8232044198895028, 0.8232044198895028, 0.8186813186813187, 0.8097826086956522, 0.8142076502732241, 0.8097826086956522, 0.8277777777777778, 0.8232044198895028, 0.8277777777777778, 0.8097826086956521, 0.8277777777777777, 0.8232044198895027, 0.8232044198895028, 0.8186813186813188, 0.8232044198895028, 0.8277777777777777, 0.8232044198895029, 0.8418079096045198, 0.8465909090909092, 0.8324022346368715, 0.8277777777777777, 0.8232044198895028, 0.8370786516853933, 0.8232044198895028, 0.8324022346368715, 0.8324022346368716, 0.8277777777777778, 0.8277777777777778, 0.8277777777777778, 0.8277777777777777, 0.8514285714285714, 0.8232044198895028, 0.8277777777777778, 0.8232044198895028, 0.8277777777777778, 0.8418079096045198, 0.8370786516853933, 0.8418079096045198, 0.8418079096045197, 0.8418079096045198, 0.8370786516853932, 0.8418079096045198, 0.8370786516853933, 0.8186813186813187, 0.8232044198895028, 0.8324022346368715, 0.8324022346368716, 0.8277777777777777, 0.8324022346368715, 0.8324022346368715, 0.8277777777777778, 0.8277777777777777, 0.8418079096045198, 0.8370786516853933, 0.8277777777777778, 0.8465909090909091, 0.8465909090909091, 0.8418079096045198]\n",
    "xi_yan = [0.6394849785407726, 0.6592920353982301, 0.6772727272727272, 0.6834862385321101, 0.6930232558139534, 0.6962616822429906, 0.7028301886792453, 0.7028301886792453, 0.7061611374407584, 0.7095238095238094, 0.7129186602870814, 0.7163461538461539, 0.7129186602870813, 0.7163461538461539, 0.7198067632850241, 0.7233009708737864, 0.7233009708737863, 0.7198067632850241, 0.7163461538461537, 0.7303921568627452, 0.7268292682926829, 0.726829268292683, 0.726829268292683, 0.7233009708737863, 0.7268292682926829, 0.7303921568627451, 0.7303921568627452, 0.7339901477832512, 0.7303921568627451, 0.7268292682926829, 0.7376237623762375, 0.7339901477832512, 0.7303921568627451, 0.7268292682926829, 0.7339901477832512, 0.7303921568627451, 0.7376237623762376, 0.7339901477832512, 0.7376237623762376, 0.7339901477832512, 0.7339901477832512, 0.7339901477832512, 0.7339901477832512, 0.7376237623762376, 0.7339901477832512, 0.7412935323383085, 0.745, 0.7412935323383084, 0.7412935323383084, 0.7412935323383084, 0.7376237623762376, 0.7376237623762377, 0.7339901477832513, 0.7339901477832512, 0.7376237623762376, 0.7450000000000001, 0.7412935323383084, 0.7412935323383085, 0.7412935323383085, 0.7376237623762377, 0.7412935323383084, 0.7376237623762375, 0.745, 0.745, 0.7412935323383085, 0.7412935323383085, 0.7376237623762376, 0.7376237623762377, 0.745, 0.7412935323383084, 0.745, 0.7412935323383085, 0.7412935323383084, 0.7412935323383084, 0.7450000000000001, 0.745, 0.7412935323383084, 0.745, 0.745, 0.7450000000000001, 0.745, 0.745, 0.745, 0.745, 0.7412935323383085, 0.7412935323383084, 0.7412935323383084, 0.7412935323383084, 0.7412935323383084, 0.745, 0.745, 0.7487437185929648, 0.7487437185929647, 0.745, 0.7487437185929648, 0.745, 0.745, 0.745, 0.7487437185929647]"
   ]
  },
  {
   "cell_type": "code",
   "execution_count": null,
   "id": "45b750cb-9c27-4941-9bb1-82d2574cf97f",
   "metadata": {},
   "outputs": [],
   "source": [
    "n2/n1"
   ]
  },
  {
   "cell_type": "code",
   "execution_count": null,
   "id": "e7ad4e35-4ccb-4ca7-a267-4acac59d74c1",
   "metadata": {},
   "outputs": [],
   "source": [
    "def fit(x, a, b, c):\n",
    "    return a - (b/x)**c"
   ]
  },
  {
   "cell_type": "code",
   "execution_count": null,
   "id": "ecb0103f-995a-4a1f-8724-0a7cefd6154f",
   "metadata": {},
   "outputs": [],
   "source": [
    "pp, ppcov = curve_fit(fit, np.array(z), xi_moi, p0=(0.8, 10, 0.2))"
   ]
  },
  {
   "cell_type": "code",
   "execution_count": null,
   "id": "05daed08-6f4d-4c5e-90c9-db84c2aaf234",
   "metadata": {},
   "outputs": [],
   "source": [
    "pp"
   ]
  },
  {
   "cell_type": "code",
   "execution_count": null,
   "id": "f7f88b0f-16fd-4864-80a9-cbf4490e92c9",
   "metadata": {},
   "outputs": [],
   "source": [
    "epsilon = -(0.617)/(4*z*n2)"
   ]
  },
  {
   "cell_type": "code",
   "execution_count": null,
   "id": "0bb63b1b-f7ee-43b8-bd04-578d1ba9777d",
   "metadata": {},
   "outputs": [],
   "source": [
    "mm = np.sqrt(n1**2-n2**2)"
   ]
  },
  {
   "cell_type": "code",
   "execution_count": null,
   "id": "c01adb5f-70c1-4d6b-a9c2-b075605b16ae",
   "metadata": {},
   "outputs": [],
   "source": [
    "xi_univ = (n2/n1)*(1-epsilon-(mm/n1)*np.sqrt(epsilon*(epsilon-2)))/(1-((n2/n1)**2)*epsilon*(2-epsilon))"
   ]
  },
  {
   "cell_type": "code",
   "execution_count": null,
   "id": "a27ec2c2-cdae-4d0d-a59f-808e96f1caec",
   "metadata": {},
   "outputs": [],
   "source": [
    "plt.rcParams['figure.figsize'] = [5, 3]\n",
    "plt.scatter(z, np.array(xi_list)[:-1], marker='x', label='Simulated data')\n",
    "plt.plot(z, xi_univ, c='r', label='Loginov $\\\\mathit{et}$ $\\\\mathit{al.}$ (2024) (analytical)')\n",
    "#plt.plot(z, fit(np.array(z), pp[0], pp[1], pp[2]))\n",
    "plt.scatter(z, xi_yan, label='Yan $\\\\mathit{et}$ $\\\\mathit{al.}$ (2019) (simulated)')\n",
    "#plt.plot(z, [n2/n1 for k in range(len(z))], label='Geometrical optics', c='r')\n",
    "plt.xlabel('Particule-interface distance z ($\\\\mu m$)')\n",
    "plt.ylabel('$\\\\zeta = z/z_A$')\n",
    "plt.xlim((0,101))\n",
    "plt.ylim((0.5,0.87))\n",
    "#plt.xlim((0,10))\n",
    "plt.legend(loc='lower right')\n",
    "plt.grid()"
   ]
  },
  {
   "cell_type": "code",
   "execution_count": null,
   "id": "475822d5-b8e8-475e-a69b-524fa55474c6",
   "metadata": {},
   "outputs": [],
   "source": [
    "np.arcsin(1.4/1.52)*180/np.pi"
   ]
  }
 ],
 "metadata": {
  "kernelspec": {
   "display_name": "Python 3 (ipykernel)",
   "language": "python",
   "name": "python3"
  },
  "language_info": {
   "codemirror_mode": {
    "name": "ipython",
    "version": 3
   },
   "file_extension": ".py",
   "mimetype": "text/x-python",
   "name": "python",
   "nbconvert_exporter": "python",
   "pygments_lexer": "ipython3",
   "version": "3.12.7"
  }
 },
 "nbformat": 4,
 "nbformat_minor": 5
}
