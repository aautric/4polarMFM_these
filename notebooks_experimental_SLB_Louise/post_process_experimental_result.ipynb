{
 "cells": [
  {
   "cell_type": "code",
   "execution_count": null,
   "id": "6f8663cd",
   "metadata": {},
   "outputs": [],
   "source": [
    "import numpy as np\n",
    "import matplotlib.pyplot as plt\n",
    "import os\n",
    "from matplotlib.colors import hsv_to_rgb"
   ]
  },
  {
   "cell_type": "code",
   "execution_count": null,
   "id": "34d27525",
   "metadata": {},
   "outputs": [],
   "source": [
    "folder = 'D:/AMAURY/experimental_processed/stage/2025_08_20_FOR_REPORT'"
   ]
  },
  {
   "cell_type": "code",
   "execution_count": null,
   "id": "d1f8bc5f",
   "metadata": {},
   "outputs": [],
   "source": [
    "frame, x, y, z, N_photons, offset_proj, rho, eta, delta, score, x_start, y_start, z_start, rho_start, delta_start = [], [], [], [], [], [], [], [], [], [], [], [], [], [], []\n",
    "for filename in os.listdir(folder):\n",
    "    data = np.load(rf\"{folder}\\{filename}\")\n",
    "    frame = np.concatenate((frame, data['frame']))\n",
    "    x = np.concatenate((x, data['x']))\n",
    "    y = np.concatenate((y, data['y']))\n",
    "    z = np.concatenate((z, data['z'])) \n",
    "    N_photons = np.concatenate((N_photons, data['N_photons']))\n",
    "    rho = np.concatenate((rho, data['rho']))\n",
    "    eta = np.concatenate((eta, data['eta']))\n",
    "    delta = np.concatenate((delta, data['delta']))\n",
    "    score = np.concatenate((score, data['score']))\n",
    "    x_start = np.concatenate((x_start, data['x_start']))\n",
    "    y_start = np.concatenate((y_start, data['y_start']))\n",
    "    z_start = np.concatenate((z_start, data['z_start']))    \n",
    "    rho_start = np.concatenate((rho_start, data['rho_start']))\n",
    "    delta_start = np.concatenate((delta_start, data['delta_start']))\n",
    "    offset_proj = np.concatenate((offset_proj, np.array([data['offset_proj']])))\n",
    "frame = np.array(frame)\n",
    "x = np.array(x)\n",
    "y = np.array(y)\n",
    "z = np.array(z)\n",
    "N_photons = np.array(N_photons)\n",
    "rho = np.array(rho)\n",
    "eta = np.array(eta)\n",
    "delta = np.array(delta)\n",
    "score = np.array(score)\n",
    "rho_start = np.array(rho_start)\n",
    "delta_start = np.array(delta_start)\n",
    "z_start = np.array(z_start)\n",
    "x_start = np.array(x_start)\n",
    "y_start = np.array(y_start)\n",
    "offset_proj = np.array(offset_proj)"
   ]
  },
  {
   "cell_type": "code",
   "execution_count": null,
   "id": "618d96e1",
   "metadata": {},
   "outputs": [],
   "source": [
    "plt.rcParams['figure.figsize'] = [12,12]\n",
    "hues = rho / 180.0\n",
    "hsv_colors = np.stack((hues, np.ones_like(hues), np.ones_like(hues)), axis=1)\n",
    "\n",
    "rgb_colors = hsv_to_rgb(hsv_colors)\n",
    "plt.scatter(x , y , c = rgb_colors, s=1)\n",
    "plt.axis('equal')"
   ]
  },
  {
   "cell_type": "code",
   "execution_count": null,
   "id": "ef1f3e3a",
   "metadata": {},
   "outputs": [],
   "source": [
    "plt.rcParams['figure.figsize'] = [10,5]\n",
    "hist = plt.hist(score, bins=50)"
   ]
  },
  {
   "cell_type": "code",
   "execution_count": null,
   "id": "036ebb5e",
   "metadata": {},
   "outputs": [],
   "source": [
    "hh = plt.hist(N_photons, bins=100)\n",
    "plt.xlim((0,60000))"
   ]
  },
  {
   "cell_type": "code",
   "execution_count": null,
   "id": "f6ad8090",
   "metadata": {},
   "outputs": [],
   "source": [
    "threshold = (N_photons>0)"
   ]
  },
  {
   "cell_type": "code",
   "execution_count": null,
   "id": "998dc2ca",
   "metadata": {},
   "outputs": [],
   "source": [
    "plt.rcParams['figure.figsize'] = [12,12]\n",
    "hues = rho[threshold] / 180.0\n",
    "hsv_colors = np.stack((hues, np.ones_like(hues), np.ones_like(hues)), axis=1)\n",
    "\n",
    "rgb_colors = hsv_to_rgb(hsv_colors)\n",
    "print(rgb_colors)\n",
    "plt.scatter(x[threshold] , y[threshold] , c = rgb_colors, s=3)\n",
    "plt.axis('equal')\n"
   ]
  },
  {
   "cell_type": "code",
   "execution_count": null,
   "id": "87d3f059",
   "metadata": {},
   "outputs": [],
   "source": [
    "plt.rcParams['figure.figsize'] = [5,5]\n",
    "op = plt.hist(offset_proj, bins=20)"
   ]
  },
  {
   "cell_type": "code",
   "execution_count": null,
   "id": "de0b9708",
   "metadata": {},
   "outputs": [],
   "source": [
    "plt.rcParams['figure.figsize'] = [5,5]\n",
    "plt.scatter(z[threshold], eta[threshold], c = rgb_colors, s=4)\n",
    "plt.grid()"
   ]
  },
  {
   "cell_type": "code",
   "execution_count": null,
   "id": "b87ff06b",
   "metadata": {},
   "outputs": [],
   "source": [
    "offset_polar = np.zeros(x[threshold].shape)\n",
    "offset_polar[:] = np.nan\n",
    "offset_polar[:offset_proj.shape[0]] = offset_proj"
   ]
  },
  {
   "cell_type": "code",
   "execution_count": null,
   "id": "1534ac23",
   "metadata": {},
   "outputs": [],
   "source": [
    "data = np.column_stack((\n",
    "    frame[threshold], x[threshold], y[threshold], z[threshold], rho[threshold],\n",
    "    eta[threshold], delta[threshold], N_photons[threshold], offset_polar, score[threshold],\n",
    "    x_start[threshold], y_start[threshold], z_start[threshold],\n",
    "    rho_start[threshold], delta_start[threshold]\n",
    "))\n",
    "\n",
    "# Save to CSV with many digits and proper header\n",
    "# Ensure newline=\"\" to avoid issues when reading in Excel\n",
    "np.savetxt(\n",
    "    \"Z:\\NAME.csv\",\n",
    "    data,\n",
    "    delimiter=\";\",\n",
    "    header=\"frame;x;y;z;rho;eta;delta;N_photon;offset_polar;score;x_start;y_start;z_start;rho_start;delta_start\",\n",
    "    comments='',\n",
    "    fmt='%.15f'\n",
    ")"
   ]
  },
  {
   "cell_type": "code",
   "execution_count": null,
   "id": "d8bacff7",
   "metadata": {},
   "outputs": [],
   "source": []
  }
 ],
 "metadata": {
  "kernelspec": {
   "display_name": "Python 3 (ipykernel)",
   "language": "python",
   "name": "python3"
  },
  "language_info": {
   "codemirror_mode": {
    "name": "ipython",
    "version": 3
   },
   "file_extension": ".py",
   "mimetype": "text/x-python",
   "name": "python",
   "nbconvert_exporter": "python",
   "pygments_lexer": "ipython3",
   "version": "3.12.7"
  }
 },
 "nbformat": 4,
 "nbformat_minor": 5
}
