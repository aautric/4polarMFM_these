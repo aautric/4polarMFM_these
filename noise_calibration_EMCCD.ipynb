{
 "cells": [
  {
   "cell_type": "code",
   "execution_count": null,
   "id": "7736e1d3-cab4-4376-afc4-9aacda6366e7",
   "metadata": {},
   "outputs": [],
   "source": [
    "import numpy as np\n",
    "import matplotlib.pyplot as plt\n",
    "from PIL import Image\n",
    "plt.rcParams['figure.figsize'] = [20,10]"
   ]
  },
  {
   "cell_type": "code",
   "execution_count": null,
   "id": "96e59965-62e9-4296-b00c-e7119441993d",
   "metadata": {},
   "outputs": [],
   "source": [
    "QE = 0.92"
   ]
  },
  {
   "cell_type": "code",
   "execution_count": null,
   "id": "ddd2d377-7d16-4bf3-bf49-8c3e044fb7d6",
   "metadata": {},
   "outputs": [],
   "source": [
    "# preamp 1 and 17MHz rate"
   ]
  },
  {
   "cell_type": "code",
   "execution_count": null,
   "id": "f7b46114-6c31-4132-8081-ebc47ad113c0",
   "metadata": {},
   "outputs": [],
   "source": [
    "path = 'C:\\\\Users\\\\LOCCO_Louise\\\\Desktop\\\\DATA\\\\2025-05-27 - Amaury_cam3D-calibr'"
   ]
  },
  {
   "cell_type": "code",
   "execution_count": null,
   "id": "4d4c3e3f-6db3-4c3f-a619-c5bc25811692",
   "metadata": {},
   "outputs": [],
   "source": [
    "def extract(path_to_extract):\n",
    "    res = []\n",
    "    with Image.open(path_to_extract) as img:\n",
    "        for i in range(img.n_frames):\n",
    "            img.seek(i)\n",
    "            res.append(np.array(img))\n",
    "    res = np.array(res)\n",
    "    return res[0]"
   ]
  },
  {
   "cell_type": "code",
   "execution_count": null,
   "id": "d7056e03-18cd-434e-b764-90c592c52218",
   "metadata": {},
   "outputs": [],
   "source": [
    "data = np.zeros((7, 5,10,512,512))"
   ]
  },
  {
   "cell_type": "code",
   "execution_count": null,
   "id": "eeed4894-8bb1-4f88-a029-e1245ce0091d",
   "metadata": {},
   "outputs": [],
   "source": [
    "EM = [3, 10, 30, 100, 150, 200, 250]\n",
    "EXP = [20, 50, 80, 110, 150]"
   ]
  },
  {
   "cell_type": "code",
   "execution_count": null,
   "id": "18bfd411-e8de-498d-a019-e8854b07b141",
   "metadata": {},
   "outputs": [],
   "source": [
    "for ii, em in enumerate(EM):\n",
    "    for jj, exp in enumerate(EXP):\n",
    "        data[ii,jj] = extract(path+'\\\\Em'+str(em)+'_'+str(exp)+'ms.tif')"
   ]
  },
  {
   "cell_type": "code",
   "execution_count": null,
   "id": "85bf7ade-192c-4ec2-ade4-1a6691abfc73",
   "metadata": {},
   "outputs": [],
   "source": [
    "plt.rcParams['figure.figsize'] = [20,30]\n",
    "fig, ax = plt.subplots(7,5)\n",
    "for ii, em in enumerate([3, 10, 30, 100, 150, 200, 250]):\n",
    "    for jj, exp in enumerate([20, 50, 80, 110, 150]):\n",
    "        ax[ii,jj].imshow(data[ii,jj,0], cmap='gray')\n",
    "        ax[ii,jj].set_title('Em'+str(em)+'_'+str(exp)+'ms')\n"
   ]
  },
  {
   "cell_type": "code",
   "execution_count": null,
   "id": "6570e186-34bc-464e-b05d-efca2dd1b3f4",
   "metadata": {},
   "outputs": [],
   "source": [
    "bins = 100\n",
    "xmax = 300\n",
    "xmin = 100\n",
    "plt.rcParams['figure.figsize'] = [25,30]\n",
    "fig, ax = plt.subplots(7,5)\n",
    "for ii, em in enumerate([3, 10, 30, 100, 150, 200, 250]):\n",
    "    for jj, exp in enumerate([20, 50, 80, 110, 150]):\n",
    "        ax[ii,jj].hist(data[ii,jj].flatten(), bins=bins, range=(xmin, xmax))\n",
    "        ax[ii,jj].set_title('Em'+str(em)+'_'+str(exp)+'ms')\n"
   ]
  },
  {
   "cell_type": "code",
   "execution_count": null,
   "id": "20b8a3c5-7b51-4aab-b4da-1054f8c4d3f0",
   "metadata": {},
   "outputs": [],
   "source": [
    "bins = 100\n",
    "xmax = 300\n",
    "xmin = 100\n",
    "plt.rcParams['figure.figsize'] = [25,30]\n",
    "fig, ax = plt.subplots(7,5)\n",
    "for ii, em in enumerate([3, 10, 30, 100, 150, 200, 250]):\n",
    "    for jj, exp in enumerate([20, 50, 80, 110, 150]):\n",
    "        ax[ii,jj].hist(data[ii,jj].flatten()*(15.4/(0.92*EM[ii])), bins=bins)\n",
    "        ax[ii,jj].set_title('Em'+str(em)+'_'+str(exp)+'ms')"
   ]
  },
  {
   "cell_type": "code",
   "execution_count": null,
   "id": "6ba12cef-bf8f-4536-b5f8-4ccd4fabea57",
   "metadata": {},
   "outputs": [],
   "source": [
    "bias = []\n",
    "std = []\n",
    "for ii in range(7):\n",
    "    bias_ = []\n",
    "    std_=[]\n",
    "    for jj, exp in enumerate([20, 50, 80, 110, 150]):\n",
    "        bias_.append(np.mean(data[ii,jj].flatten()*(15.4/(0.92*EM[ii]))))  \n",
    "        std_.append(np.std(data[ii,jj].flatten()*(15.4/(0.92*EM[ii]))))  \n",
    "    bias.append(bias_)\n",
    "    std.append(std_)\n",
    "bias = np.array(bias)\n",
    "std = np.array(std)"
   ]
  },
  {
   "cell_type": "code",
   "execution_count": null,
   "id": "8680f7d8-d0bb-4a26-83e5-73551f984e48",
   "metadata": {},
   "outputs": [],
   "source": [
    "ii = 6\n",
    "print(bias[ii])\n",
    "print(std[ii])"
   ]
  },
  {
   "cell_type": "code",
   "execution_count": null,
   "id": "8a25e2fb-e019-403b-b58a-851a30906a64",
   "metadata": {},
   "outputs": [],
   "source": [
    "plt.rcParams['figure.figsize'] = [12,4]\n",
    "fig, ax = plt.subplots(1,2)\n",
    "for ii in range(7):\n",
    "    ax[0].scatter([20, 50, 80, 110, 150], bias[ii], label='EM = '+str(EM[ii]))\n",
    "    ax[1].scatter([20, 50, 80, 110, 150], std[ii], label='EM = '+str(EM[ii]))\n",
    "    ax[0].legend()\n",
    "    ax[1].legend()\n",
    "    ax[0].set_xlabel('Exposure time (ms)')\n",
    "    ax[0].set_ylabel('Bias (photons)')\n",
    "    ax[1].set_xlabel('Exposure time (ms)')\n",
    "    ax[1].set_ylabel('Standard deviation (photons)')\n",
    "    ax[0].set_yscale('log')\n",
    "    ax[1].set_yscale('log')\n",
    "ax[0].grid()\n",
    "ax[1].grid()"
   ]
  },
  {
   "cell_type": "code",
   "execution_count": null,
   "id": "54fcc147-b262-483c-bc84-319ecb6f7543",
   "metadata": {},
   "outputs": [],
   "source": [
    "bias_mean = np.mean(bias, axis=1)\n",
    "std_mean = np.mean(std, axis=1)\n",
    "bias_STD = np.std(bias, axis=1)\n",
    "std_STD = np.std(std, axis=1)"
   ]
  },
  {
   "cell_type": "code",
   "execution_count": null,
   "id": "7e6ba414-580a-4536-b85e-addeeca220ed",
   "metadata": {},
   "outputs": [],
   "source": [
    "plt.rcParams['figure.figsize'] = [12,2.5]\n",
    "plt.rcParams.update({'font.size': 7})\n",
    "fig, ax = plt.subplots(1,2)\n",
    "ax[0].plot(EM, bias_mean, '--x')\n",
    "ax[0].grid()\n",
    "ax[1].plot(EM, std_mean, '--x')\n",
    "ax[1].grid()\n",
    "ax[0].set_yscale('log')\n",
    "ax[1].set_yscale('log')\n",
    "ax[0].set_xlabel('EM gain')\n",
    "ax[0].set_ylabel('Bias (photons)')\n",
    "ax[1].set_xlabel('EM gain')\n",
    "ax[1].set_ylabel('Standard deviation (photons)')"
   ]
  },
  {
   "cell_type": "code",
   "execution_count": null,
   "id": "cf5a1029-b59a-4edb-b62e-09ad4e234f8d",
   "metadata": {},
   "outputs": [],
   "source": []
  }
 ],
 "metadata": {
  "kernelspec": {
   "display_name": "Python 3 (ipykernel)",
   "language": "python",
   "name": "python3"
  },
  "language_info": {
   "codemirror_mode": {
    "name": "ipython",
    "version": 3
   },
   "file_extension": ".py",
   "mimetype": "text/x-python",
   "name": "python",
   "nbconvert_exporter": "python",
   "pygments_lexer": "ipython3",
   "version": "3.12.7"
  }
 },
 "nbformat": 4,
 "nbformat_minor": 5
}
