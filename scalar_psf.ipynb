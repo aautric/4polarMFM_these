{
 "cells": [
  {
   "cell_type": "code",
   "execution_count": null,
   "id": "94edfd3d-0477-4a44-9e05-41cb227129a1",
   "metadata": {},
   "outputs": [],
   "source": [
    "from simu_PSF_polar import *\n",
    "import matplotlib.pyplot as plt\n",
    "from scipy.optimize import curve_fit\n",
    "from matplotlib.colors import LogNorm\n",
    "\n",
    "from tqdm import tqdm"
   ]
  },
  {
   "cell_type": "code",
   "execution_count": null,
   "id": "672eb168-0bd1-4a94-b7ac-019cfddd0926",
   "metadata": {},
   "outputs": [],
   "source": [
    "def gauss(coords, A, mu1, mu2, s, c):\n",
    "    x, y = coords\n",
    "    return A*(1/(2*np.pi*(s**2)))*np.exp(-0.5*(((x-mu1)**2+(y-mu2)**2)/((s**2)))) + c"
   ]
  },
  {
   "cell_type": "code",
   "execution_count": null,
   "id": "853f4bbf-22ff-4aca-b8be-271009affa44",
   "metadata": {},
   "outputs": [],
   "source": [
    "def fit_psf_in_pixel(data_raw):\n",
    "    uuuu, vvvv = np.meshgrid(np.arange(data_raw.shape[0]),np.arange((data_raw.shape[0])))\n",
    "    xdata = np.vstack((uuuu.ravel(), vvvv.ravel()))\n",
    "    zdata = data_raw.ravel()\n",
    "    p, pcov = curve_fit(gauss, xdata, zdata, p0=(200, 20, 20, 2, 0))\n",
    "    return p, gauss((uuuu, vvvv), p[0], p[1], p[2], p[3], p[4])"
   ]
  },
  {
   "cell_type": "code",
   "execution_count": null,
   "id": "9bac2acf-1e1f-4f92-89c3-96f773636e09",
   "metadata": {},
   "outputs": [],
   "source": [
    "na=1.4\n",
    "nnn = 200\n",
    "rcut = na/n1\n",
    "rr = np.linspace(-rcut, rcut, nnn)\n",
    "xx, yy = np.meshgrid(rr, rr)"
   ]
  },
  {
   "cell_type": "markdown",
   "id": "30ce345c-f72b-4bd3-9d6e-05cb8cbad31c",
   "metadata": {},
   "source": [
    "k = 2*np.pi/0.617\n",
    "m, n = np.meshgrid(range(-nnn+1, nnn), range(-nnn+1, nnn))\n",
    "dk = na/nnn\n",
    "th = np.arcsin((dk/n1)*np.sqrt(m**2+n**2))\n",
    "th[np.sin(th)>na/n1]=0.\n",
    "th[np.isnan(th)]=0.\n",
    "phi = np.arctan2(n,m)\n",
    "Kx = m*dk\n",
    "Ky = n*dk"
   ]
  },
  {
   "cell_type": "code",
   "execution_count": null,
   "id": "30521c6b-b9f4-42f3-989b-869abc3785cb",
   "metadata": {},
   "outputs": [],
   "source": [
    "th = np.arcsin(np.sqrt(xx**2+yy**2))\n",
    "th[np.sqrt(xx**2+yy**2)>rcut]=np.nan"
   ]
  },
  {
   "cell_type": "code",
   "execution_count": null,
   "id": "5f1fdec7-0c12-4a3f-8a9e-e02c3744f79c",
   "metadata": {},
   "outputs": [],
   "source": [
    "plt.rcParams['figure.figsize'] = [7, 5]\n",
    "meeeesh = plt.pcolormesh(th)\n",
    "cb = plt.colorbar(meeeesh, pad=0.15, label='Photon number')"
   ]
  },
  {
   "cell_type": "code",
   "execution_count": null,
   "id": "fd7c0b6f-affe-45f2-9484-f6462b922dca",
   "metadata": {},
   "outputs": [],
   "source": [
    "f_tube = 200000\n",
    "k = 2*np.pi/0.617\n",
    "f_o = f_tube/100\n",
    "Dx = 2*rcut*f_o/nnn\n",
    "l_pixel=4\n",
    "Npadding = int((2*np.pi*f_tube)/(k*n1*l_pixel*Dx)) - nnn \n",
    "if Npadding%2==1:\n",
    "    Npadding=Npadding+1\n",
    "lambd = 617"
   ]
  },
  {
   "cell_type": "code",
   "execution_count": null,
   "id": "58a3af69-fc48-47c7-bf6e-736e29228047",
   "metadata": {},
   "outputs": [],
   "source": [
    "#Npadding = (0.001*lambd*f_tube-l_pixel*2*rcut*f_o)/(Dx*l_pixel)"
   ]
  },
  {
   "cell_type": "code",
   "execution_count": null,
   "id": "95c2c2a4-6f2f-44fe-b583-36ae93327a63",
   "metadata": {},
   "outputs": [],
   "source": [
    "print(Npadding)"
   ]
  },
  {
   "cell_type": "code",
   "execution_count": null,
   "id": "49d6dabd-77ba-43e8-a40e-90bcdb9169eb",
   "metadata": {},
   "outputs": [],
   "source": [
    "bfp0 = 1/(np.cos(th))**(1/2)\n",
    "bfp0[np.isnan(bfp0)] = 0."
   ]
  },
  {
   "cell_type": "code",
   "execution_count": null,
   "id": "7955052b-fbfb-42f3-9803-7c772de34413",
   "metadata": {},
   "outputs": [],
   "source": [
    "bfp = np.zeros((nnn+Npadding, nnn+Npadding), dtype='float64')\n",
    "bfp[Npadding//2:Npadding//2+nnn,Npadding//2:Npadding//2+nnn] = bfp0"
   ]
  },
  {
   "cell_type": "code",
   "execution_count": null,
   "id": "e46dea1d-46d1-4117-af19-06038073ea27",
   "metadata": {},
   "outputs": [],
   "source": [
    "plt.rcParams['figure.figsize'] = [7, 5]\n",
    "meeeesh = plt.pcolormesh(bfp)\n",
    "cb = plt.colorbar(meeeesh, pad=0.15, label='Photon number')"
   ]
  },
  {
   "cell_type": "code",
   "execution_count": null,
   "id": "b2e2ebc5-ffcb-4cbd-86c1-9c4cb6899bd6",
   "metadata": {},
   "outputs": [],
   "source": [
    "field = np.fft.fftshift(np.fft.fft2(np.fft.ifftshift(bfp)))"
   ]
  },
  {
   "cell_type": "code",
   "execution_count": null,
   "id": "5b5127a3-62a9-4f0f-9ab8-b190e5f98498",
   "metadata": {},
   "outputs": [],
   "source": [
    "psf = np.real(field)**2 + np.imag(field)**2"
   ]
  },
  {
   "cell_type": "code",
   "execution_count": null,
   "id": "9ea91ff0-db26-446e-a075-c9782df4a63b",
   "metadata": {},
   "outputs": [],
   "source": [
    "plt.rcParams['figure.figsize'] = [15, 5]\n",
    "fig, ax = plt.subplots(1,2)\n",
    "NN = len(psf)\n",
    "to_fit = psf[NN//2-21:NN//2+22,NN//2-21:NN//2+22]/np.sum(psf[NN//2-21:NN//2+22,NN//2-21:NN//2+22])\n",
    "p, sim = fit_psf_in_pixel(to_fit)\n",
    "vmax2 = np.max(sim)\n",
    "vmax = np.max(to_fit)\n",
    "print(vmax)\n",
    "aa, bb = np.meshgrid(np.arange(to_fit.shape[0])*l_pixel, np.arange(to_fit.shape[0])*l_pixel)\n",
    "me = ax[0].pcolormesh(aa, bb, to_fit, norm=LogNorm(vmin=1e-6, vmax=0.028))\n",
    "cb = plt.colorbar(me, pad=0.15, label='Photon number')\n",
    "ax[0].plot(l_pixel*(21+((1*0.61)*lambd/(10*l_pixel*na))*np.cos(np.linspace(0, 2*np.pi, 100))), l_pixel*(21+((1*0.61)*lambd/(10*l_pixel*na))*np.sin(np.linspace(0, 2*np.pi, 100))), c='r')\n",
    "mesh2 = ax[1].imshow(sim, vmin=0, vmax=vmax2)\n",
    "cb = plt.colorbar(mesh2, pad=0.15, label='Photon number')\n",
    "ax[0].set_xlabel('x_camera ($\\mu$m)')\n",
    "ax[0].set_ylabel('y_camera ($\\mu$m)')"
   ]
  },
  {
   "cell_type": "code",
   "execution_count": null,
   "id": "25396096-7d4d-466b-a664-82822e8c03e1",
   "metadata": {},
   "outputs": [],
   "source": [
    "plt.rcParams['figure.figsize'] = [5, 2]\n",
    "med = (to_fit[22]+ to_fit[23])/2\n",
    "plt.plot(med)\n",
    "plt.grid()\n",
    "print((31-11)*10*l_pixel, 2.44*(lambd/na))"
   ]
  },
  {
   "cell_type": "code",
   "execution_count": null,
   "id": "15533fa5-3d7f-4daa-8f3a-6690b227fd1f",
   "metadata": {},
   "outputs": [],
   "source": [
    "mesh2 = plt.imshow(sim-to_fit)\n",
    "cb = plt.colorbar(mesh2, pad=0.15, label='Photon number')"
   ]
  },
  {
   "cell_type": "code",
   "execution_count": null,
   "id": "3d0b4b24-5477-4d4e-8911-ee11ed3bfb4b",
   "metadata": {},
   "outputs": [],
   "source": []
  }
 ],
 "metadata": {
  "kernelspec": {
   "display_name": "Python 3 (ipykernel)",
   "language": "python",
   "name": "python3"
  },
  "language_info": {
   "codemirror_mode": {
    "name": "ipython",
    "version": 3
   },
   "file_extension": ".py",
   "mimetype": "text/x-python",
   "name": "python",
   "nbconvert_exporter": "python",
   "pygments_lexer": "ipython3",
   "version": "3.12.7"
  }
 },
 "nbformat": 4,
 "nbformat_minor": 5
}
