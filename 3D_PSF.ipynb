{
 "cells": [
  {
   "cell_type": "markdown",
   "id": "0b443796-dd61-47d3-975c-67acd5d09643",
   "metadata": {},
   "source": [
    "# Use of PSF simulations code"
   ]
  },
  {
   "cell_type": "code",
   "execution_count": null,
   "id": "316175fe-398f-44b7-9457-4ed0b090e949",
   "metadata": {},
   "outputs": [],
   "source": [
    "from simu_PSF_polar import *\n",
    "import matplotlib.pyplot as plt\n",
    "from matplotlib.colors import LogNorm\n",
    "device = torch.device('cuda')"
   ]
  },
  {
   "cell_type": "code",
   "execution_count": null,
   "id": "b287a660-0944-4fc5-b52a-34883933d8e8",
   "metadata": {},
   "outputs": [],
   "source": [
    "N_photons=1000 # number of photons collected \n",
    "N=80 # discretization of the BFP\n",
    "l_pixel=4 #pixel size in micrometer\n",
    "NA=1.4 # numerical aperture\n",
    "mag=100 # first magnification\n",
    "lambd=617 # wavelength\n",
    "f_tube=200 # tube lens focal\n",
    "MAG=200/150 # second magnification"
   ]
  },
  {
   "cell_type": "code",
   "execution_count": null,
   "id": "3da3d0f4",
   "metadata": {},
   "outputs": [],
   "source": [
    "N_photons=torch.tensor(N_photons, device=device)\n",
    "N=torch.tensor(N, device=device)\n",
    "l_pixel=torch.tensor(l_pixel, device=device)\n",
    "NA=torch.tensor(NA, device=device)\n",
    "mag=torch.tensor(mag, device=device)\n",
    "lambd=torch.tensor(lambd, device=device)\n",
    "f_tube=torch.tensor(f_tube, device=device)\n",
    "MAG=torch.tensor(MAG, device=device)"
   ]
  },
  {
   "cell_type": "code",
   "execution_count": null,
   "id": "a4b18853",
   "metadata": {},
   "outputs": [],
   "source": [
    "NPSF = 80"
   ]
  },
  {
   "cell_type": "code",
   "execution_count": null,
   "id": "64d1d383",
   "metadata": {},
   "outputs": [],
   "source": [
    "xp = torch.tensor([0. for i in range(NPSF)], device=device) # dipole position\n",
    "yp = torch.tensor([0. for i in range(NPSF)], device=device) # dipole position\n",
    "d_ = torch.tensor(-np.linspace(.1, 5, NPSF), device=device) # z position of dipole  \n",
    "z = torch.tensor(np.array([1. for i in range(NPSF)]), device=device) # defocus of dipole in lambda units \n",
    "rho = torch.tensor([45. for i in range(NPSF)], device=device) # equatorial angle in degree\n",
    "eta = torch.tensor([45. for i in range(NPSF)], device=device)  # azimuthal angle in degree\n",
    "delta = torch.tensor([60. for i in range(NPSF)], device=device)  # wobbling in degree"
   ]
  },
  {
   "cell_type": "code",
   "execution_count": null,
   "id": "e0ec3ba1-59ca-4594-84cd-be0178ebaaf9",
   "metadata": {},
   "outputs": [],
   "source": [
    "x, y, th1, phi, [Ex0, Ex1, Ex2], [Ey0, Ey1, Ey2], r, r_cut, k, f_o = vectorial_BFP_perfect_focus(N, NA=NA, mag=mag, lambd=lambd, f_tube=f_tube, device=device)"
   ]
  },
  {
   "cell_type": "code",
   "execution_count": null,
   "id": "82b1dabe-0982-44af-90db-83026c178dc2",
   "metadata": {},
   "outputs": [],
   "source": [
    "u, v, M = compute_M(xp=xp, yp=yp, zp=z, d=d_, x=x, y=y, th1=th1, phi=phi, Ex0=Ex0, Ex1=Ex1, Ex2=Ex2\n",
    "                    , Ey0=Ey0, Ey1=Ey1, Ey2=Ey2, r=r, r_cut=r_cut, k=k, f_o=f_o, N=N, l_pixel=l_pixel, NA=NA, mag=mag, lambd=lambd, f_tube=f_tube, MAG=MAG, device=device)"
   ]
  },
  {
   "cell_type": "code",
   "execution_count": null,
   "id": "a4c3521e-58b9-44d3-9712-83aa0eccd503",
   "metadata": {},
   "outputs": [],
   "source": [
    "M.shape"
   ]
  },
  {
   "cell_type": "code",
   "execution_count": null,
   "id": "62c86fb9-8f64-42bc-b3e9-e7420b3e91e2",
   "metadata": {},
   "outputs": [],
   "source": [
    "psf = PSF(rho=rho, eta=eta, delta=delta, M=M, N_photons=N_photons)"
   ]
  },
  {
   "cell_type": "code",
   "execution_count": null,
   "id": "15085b0d-01de-40dd-8ed0-71b7e33a0f72",
   "metadata": {},
   "outputs": [],
   "source": [
    "psf.shape"
   ]
  },
  {
   "cell_type": "code",
   "execution_count": null,
   "id": "0b637866-945c-4ba0-9033-e6ce55b40715",
   "metadata": {},
   "outputs": [],
   "source": [
    "# the result is of dimension 3 (polar, x_image, y_image) or 4 if rho ... are tensors of dimension N (several psf computed)\n",
    "# then the dimension is () (N, polar, x_image, y_image)"
   ]
  },
  {
   "cell_type": "code",
   "execution_count": null,
   "id": "5de8cc14",
   "metadata": {},
   "outputs": [],
   "source": [
    "psfx = np.max(psf[:,0].cpu().detach().numpy(), axis=(0,))\n",
    "psfy = np.max(psf[:,1].cpu().detach().numpy(), axis=(0,))\n",
    "psfx = psf[25,0].cpu().detach().numpy()\n",
    "psfy = psf[25,1].cpu().detach().numpy()\n",
    "\n",
    "psf_unpolarized = psfx+psfy\n",
    "posx = xp[0].cpu().detach().numpy()*mag.cpu().detach().numpy()*MAG.cpu().detach().numpy()\n",
    "posy = yp[0].cpu().detach().numpy()*mag.cpu().detach().numpy()*MAG.cpu().detach().numpy()\n",
    "posz = z[0].cpu().detach().numpy()\n",
    "maag = (mag*MAG).cpu().detach().numpy()"
   ]
  },
  {
   "cell_type": "code",
   "execution_count": null,
   "id": "3e832608",
   "metadata": {},
   "outputs": [],
   "source": [
    "psf_radius = 0.001*maag* 0.61 * lambd.cpu().detach().numpy() / (NA.cpu().detach().numpy())  # in micrometer\n",
    "x_circle = psf_radius * np.cos(np.linspace(0, 2 * np.pi, 100))\n",
    "y_circle = psf_radius * np.sin(np.linspace(0, 2 * np.pi, 100))"
   ]
  },
  {
   "cell_type": "code",
   "execution_count": null,
   "id": "3bbf54ce-a066-4e8e-850d-68b8c4b13417",
   "metadata": {
    "scrolled": true
   },
   "outputs": [],
   "source": [
    "x_lim = 100\n",
    "plt.rcParams['figure.figsize'] = [23, 5]\n",
    "fig, ax = plt.subplots(1,3)\n",
    "\n",
    "\n",
    "mesh = ax[0].pcolormesh(u.cpu().detach().numpy(), v.cpu().detach().numpy(), psfx, cmap='gray')\n",
    "#ax[0].plot(x_circle, y_circle, label=' Theoretical PSF size', color='red')\n",
    "#ax[0].legend()\n",
    "ax[0].set_xlim((posx-x_lim, posx+x_lim))\n",
    "ax[0].set_ylim((posy-x_lim, posy+x_lim))\n",
    "ax[0].set_xlabel('x_camera ($\\\\mu$m)')\n",
    "ax[0].set_ylabel('y_camera ($\\\\mu$m)')\n",
    "ax[0].set_title('x polarization')\n",
    "secax = ax[0].secondary_xaxis('top', functions=(lambda x : 1000*x/maag, lambda x : 0.001*maag*x))\n",
    "secax2 = ax[0].secondary_yaxis('right', functions=(lambda x : 1000*x/maag, lambda x : 0.001*maag*x))\n",
    "secax.set_xlabel('x_sample (nm)')\n",
    "secax2.set_ylabel('y_sample (nm)')\n",
    "cb = plt.colorbar(mesh, pad=0.15, label='Photon number')\n",
    "\n",
    "mesh1 = ax[1].pcolormesh(u.cpu().detach().numpy(), v.cpu().detach().numpy(), psfy, cmap='gray')\n",
    "#ax[1].plot(x_circle, y_circle, label=' Theoretical PSF size', color='red')\n",
    "#ax[1].legend()\n",
    "ax[1].set_xlim((posx-x_lim, posx+x_lim))\n",
    "ax[1].set_ylim((posy-x_lim, posy+x_lim))\n",
    "ax[1].set_xlabel('x_camera ($\\\\mu$m)')\n",
    "ax[1].set_ylabel('y_camera ($\\\\mu$m)')\n",
    "ax[1].set_title('y polarization')\n",
    "secax = ax[1].secondary_xaxis('top', functions=(lambda x : 1000*x/maag, lambda x : 0.001*maag*x))\n",
    "secax2 = ax[1].secondary_yaxis('right', functions=(lambda x : 1000*x/maag, lambda x : 0.001*maag*x))\n",
    "secax.set_xlabel('x_sample (nm)')\n",
    "secax2.set_ylabel('y_sample (nm)')\n",
    "cb = plt.colorbar(mesh1, pad=0.15, label='Photon number')\n",
    "\n",
    "mesh2 = ax[2].pcolormesh(u.cpu().detach().numpy(), v.cpu().detach().numpy(), psf_unpolarized, cmap='gray')\n",
    "#ax[2].plot(x_circle, y_circle, label=' Theoretical PSF size', color='red')\n",
    "#ax[2].legend()\n",
    "ax[2].set_xlim((posx-x_lim, posx+x_lim))\n",
    "ax[2].set_ylim((posy-x_lim, posy+x_lim))\n",
    "ax[2].set_xlabel('x_camera ($\\\\mu$m)')\n",
    "ax[2].set_ylabel('y_camera ($\\\\mu$m)')\n",
    "ax[2].set_title('unpolarized')\n",
    "secax = ax[2].secondary_xaxis('top', functions=(lambda x : 1000*x/maag, lambda x : 0.001*maag*x))\n",
    "secax2 = ax[2].secondary_yaxis('right', functions=(lambda x : 1000*x/maag, lambda x : 0.001*maag*x))\n",
    "secax.set_xlabel('x_sample (nm)')\n",
    "secax2.set_ylabel('y_sample (nm)')\n",
    "cb = plt.colorbar(mesh2, pad=0.15, label='Photon number')"
   ]
  },
  {
   "cell_type": "code",
   "execution_count": null,
   "id": "a33594cf",
   "metadata": {},
   "outputs": [],
   "source": [
    "uu, zz = np.meshgrid(u[0].cpu(), -d_.cpu().numpy())\n",
    "\n",
    "psfx = psf[:,0,int(psf.shape[3]/2)].cpu().detach().numpy()\n",
    "psfy = psf[:,1,int(psf.shape[3]/2)].cpu().detach().numpy()\n",
    "psf_unpolarized = psfx+psfy"
   ]
  },
  {
   "cell_type": "code",
   "execution_count": null,
   "id": "6269ee9a",
   "metadata": {},
   "outputs": [],
   "source": [
    "x_lim = 2000#800\n",
    "z_lim = 2000\n",
    "plt.rcParams['figure.figsize'] = [19, 5]\n",
    "fig, ax = plt.subplots(1,3)\n",
    "\n",
    "\n",
    "mesh1 = ax[0].pcolormesh(1000*uu/maag, 1000*zz, psfx, cmap='gray', norm=LogNorm(vmin=1e-2, vmax=1e2))\n",
    "ax[0].axhline(-1000*d_.cpu().numpy()[25], alpha=0.7)\n",
    "ax[0].scatter([0.], 1000*z.cpu().detach().numpy()[0], label='Emitter position', c='r', marker='+')\n",
    "ax[0].legend()\n",
    "ax[0].set_xlim((posx-x_lim, posx+x_lim))\n",
    "#ax[0].set_ylim((posz*1000-z_lim, posz*1000+z_lim))\n",
    "ax[0].set_aspect('equal')\n",
    "ax[0].set_xlabel('x_sample (nm)')\n",
    "ax[0].set_ylabel('z (nm)')\n",
    "ax[0].set_title('x polarization')\n",
    "secax = ax[0].secondary_xaxis('top', functions=(lambda x : 0.001*maag*x, lambda x : 1000*x/maag))\n",
    "secax.set_xlabel('x_camera ($\\\\mu$m)')\n",
    "cb = plt.colorbar(mesh1, pad=0.15, label='Photon number')\n",
    "\n",
    "mesh2 = ax[1].pcolormesh(1000*uu/maag, 1000*zz, psfy, cmap='gray', norm=LogNorm(vmin=1e-2, vmax=1e2))\n",
    "ax[1].axhline(-1000*d_.cpu().numpy()[25], alpha=0.7)\n",
    "ax[1].scatter([0.], 1000*z.cpu().detach().numpy()[0], label='Emitter position', c='r', marker='+')\n",
    "ax[1].legend()\n",
    "ax[1].set_xlim((posx-x_lim, posx+x_lim))\n",
    "#ax[1].set_ylim((posz*1000-z_lim, posz*1000+z_lim))\n",
    "ax[1].set_aspect('equal')\n",
    "ax[1].set_xlabel('x_sample (nm)')\n",
    "ax[1].set_ylabel('z (nm)')\n",
    "ax[1].set_title('y polarization')\n",
    "secax = ax[1].secondary_xaxis('top', functions=(lambda x : 0.001*maag*x, lambda x : 1000*x/maag))\n",
    "secax.set_xlabel('x_camera ($\\\\mu$m)')\n",
    "cb = plt.colorbar(mesh2, pad=0.15, label='Photon number')\n",
    "\n",
    "mesh3 = ax[2].pcolormesh(1000*uu/maag, 1000*zz, psfx+psfy, cmap='gray')#, norm=LogNorm(vmin=1e-2, vmax=1e2))\n",
    "ax[2].axhline(-1000*d_.cpu().numpy()[25], alpha=0.7)\n",
    "ax[2].scatter([0.], 1000*z.cpu().detach().numpy()[0], label='Emitter position', c='r', marker='+')\n",
    "ax[2].legend()\n",
    "ax[2].set_xlim((posx-x_lim, posx+x_lim))\n",
    "#ax[2].set_ylim((posz*1000-z_lim, posz*1000+z_lim))\n",
    "ax[2].set_aspect('equal')\n",
    "ax[2].set_xlabel('x_sample (nm)')\n",
    "ax[2].set_ylabel('z (nm)')\n",
    "ax[2].set_title('unpolarized')\n",
    "secax = ax[2].secondary_xaxis('top', functions=(lambda x : 0.001*maag*x, lambda x : 1000*x/maag))\n",
    "secax.set_xlabel('x_camera ($\\\\mu$m)')\n",
    "cb = plt.colorbar(mesh3, pad=0.15, label='Photon number')"
   ]
  },
  {
   "cell_type": "code",
   "execution_count": null,
   "id": "daa6dc65",
   "metadata": {},
   "outputs": [],
   "source": [
    "uu, zz = np.meshgrid(u[0].cpu(), -d_.cpu().numpy())\n",
    "\n",
    "psfx = psf[:,0,:,int(psf.shape[2]/2)].cpu().detach().numpy()\n",
    "psfy = psf[:,1,:,int(psf.shape[2]/2)].cpu().detach().numpy()\n",
    "psf_unpolarized = psfx+psfy"
   ]
  },
  {
   "cell_type": "code",
   "execution_count": null,
   "id": "2fac1dec",
   "metadata": {},
   "outputs": [],
   "source": [
    "x_lim = 2000#800\n",
    "z_lim = 2000\n",
    "plt.rcParams['figure.figsize'] = [17, 5]\n",
    "fig, ax = plt.subplots(1,3)\n",
    "\n",
    "\n",
    "mesh1 = ax[0].pcolormesh(1000*uu/maag, 1000*zz, psfx, cmap='gray', norm=LogNorm(vmin=1e-2, vmax=1e2))\n",
    "ax[0].scatter([0.], 1000*z.cpu().detach().numpy()[0], label='Emitter position', c='r', marker='+')\n",
    "ax[0].legend()\n",
    "ax[0].set_xlim((posx-x_lim, posx+x_lim))\n",
    "#ax[0].set_ylim((posz*1000-z_lim, posz*1000+z_lim))\n",
    "ax[0].set_aspect('equal')\n",
    "ax[0].set_xlabel('y_sample (nm)')\n",
    "ax[0].set_ylabel('z (nm)')\n",
    "ax[0].set_title('x polarization')\n",
    "secax = ax[0].secondary_xaxis('top', functions=(lambda x : 0.001*maag*x, lambda x : 1000*x/maag))\n",
    "secax.set_xlabel('y_camera ($\\\\mu$m)')\n",
    "cb = plt.colorbar(mesh1, pad=0.15, label='Photon number')\n",
    "\n",
    "mesh2 = ax[1].pcolormesh(1000*uu/maag, 1000*zz, psfy, cmap='gray', norm=LogNorm(vmin=1e-2, vmax=1e2))\n",
    "ax[1].scatter([0.], 1000*z.cpu().detach().numpy()[0], label='Emitter position', c='r', marker='+')\n",
    "ax[1].legend()\n",
    "ax[1].set_xlim((posx-x_lim, posx+x_lim))\n",
    "#ax[1].set_ylim((posz*1000-z_lim, posz*1000+z_lim))\n",
    "ax[1].set_aspect('equal')\n",
    "ax[1].set_xlabel('y_sample (nm)')\n",
    "ax[1].set_ylabel('z (nm)')\n",
    "ax[1].set_title('y polarization')\n",
    "secax = ax[1].secondary_xaxis('top', functions=(lambda x : 0.001*maag*x, lambda x : 1000*x/maag))\n",
    "secax.set_xlabel('y_camera ($\\\\mu$m)')\n",
    "cb = plt.colorbar(mesh2, pad=0.15, label='Photon number')\n",
    "\n",
    "mesh3 = ax[2].pcolormesh(1000*uu/maag, 1000*zz, psfx+psfy, cmap='gray')#, norm=LogNorm(vmin=1e-2, vmax=1e2))\n",
    "ax[2].scatter([0.], 1000*z.cpu().detach().numpy()[0], label='Emitter position', c='r', marker='+')\n",
    "ax[2].legend()\n",
    "ax[2].set_xlim((posx-x_lim, posx+x_lim))\n",
    "#ax[2].set_ylim((posz*1000-z_lim, posz*1000+z_lim))\n",
    "ax[2].set_aspect('equal')\n",
    "ax[2].set_xlabel('y_sample (nm)')\n",
    "ax[2].set_ylabel('z (nm)')\n",
    "ax[2].set_title('unpolarized')\n",
    "secax = ax[2].secondary_xaxis('top', functions=(lambda x : 0.001*maag*x, lambda x : 1000*x/maag))\n",
    "secax.set_xlabel('y_camera ($\\\\mu$m)')\n",
    "cb = plt.colorbar(mesh3, pad=0.15, label='Photon number')"
   ]
  },
  {
   "cell_type": "code",
   "execution_count": null,
   "id": "f3e908e0",
   "metadata": {},
   "outputs": [],
   "source": []
  }
 ],
 "metadata": {
  "kernelspec": {
   "display_name": "deeplearning_env",
   "language": "python",
   "name": "python3"
  },
  "language_info": {
   "codemirror_mode": {
    "name": "ipython",
    "version": 3
   },
   "file_extension": ".py",
   "mimetype": "text/x-python",
   "name": "python",
   "nbconvert_exporter": "python",
   "pygments_lexer": "ipython3",
   "version": "3.12.7"
  }
 },
 "nbformat": 4,
 "nbformat_minor": 5
}
